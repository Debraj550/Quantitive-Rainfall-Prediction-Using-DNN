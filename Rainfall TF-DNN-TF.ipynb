{
 "cells": [
  {
   "cell_type": "code",
   "execution_count": 1,
   "metadata": {
    "collapsed": true
   },
   "outputs": [],
   "source": [
    "#BASIC LIBRARIES TO BE NEEDED\n",
    "import tensorflow as tf\n",
    "import numpy as np\n",
    "import pandas as pd\n",
    "import matplotlib.pyplot as plt\n",
    "%matplotlib inline\n",
    "from sklearn import metrics"
   ]
  },
  {
   "cell_type": "code",
   "execution_count": 2,
   "metadata": {
    "collapsed": true
   },
   "outputs": [],
   "source": [
    "tf.set_random_seed(101)"
   ]
  },
  {
   "cell_type": "markdown",
   "metadata": {},
   "source": [
    "### READ DATASET RAIN"
   ]
  },
  {
   "cell_type": "code",
   "execution_count": 3,
   "metadata": {
    "collapsed": true
   },
   "outputs": [],
   "source": [
    "dataset = pd.read_csv('dataset_rain.csv')"
   ]
  },
  {
   "cell_type": "code",
   "execution_count": 4,
   "metadata": {},
   "outputs": [
    {
     "data": {
      "text/plain": [
       "Index(['Day', 'Month', 'Year', 'MinPressure', 'MaxPressure', 'MinVapour',\n",
       "       'MaxVapour', 'MinRelativeHumidity', 'MaxRelativeHumidity',\n",
       "       'MinTemperature', 'MaxTemperature', 'Rain', 'MinRadiation',\n",
       "       'MaxRadiation'],\n",
       "      dtype='object')"
      ]
     },
     "execution_count": 4,
     "metadata": {},
     "output_type": "execute_result"
    }
   ],
   "source": [
    "dataset.columns"
   ]
  },
  {
   "cell_type": "code",
   "execution_count": 5,
   "metadata": {},
   "outputs": [
    {
     "data": {
      "text/html": [
       "<div>\n",
       "<style>\n",
       "    .dataframe thead tr:only-child th {\n",
       "        text-align: right;\n",
       "    }\n",
       "\n",
       "    .dataframe thead th {\n",
       "        text-align: left;\n",
       "    }\n",
       "\n",
       "    .dataframe tbody tr th {\n",
       "        vertical-align: top;\n",
       "    }\n",
       "</style>\n",
       "<table border=\"1\" class=\"dataframe\">\n",
       "  <thead>\n",
       "    <tr style=\"text-align: right;\">\n",
       "      <th></th>\n",
       "      <th>Day</th>\n",
       "      <th>Month</th>\n",
       "      <th>Year</th>\n",
       "      <th>MinPressure</th>\n",
       "      <th>MaxPressure</th>\n",
       "      <th>MinVapour</th>\n",
       "      <th>MaxVapour</th>\n",
       "      <th>MinRelativeHumidity</th>\n",
       "      <th>MaxRelativeHumidity</th>\n",
       "      <th>MinTemperature</th>\n",
       "      <th>MaxTemperature</th>\n",
       "      <th>Rain</th>\n",
       "      <th>MinRadiation</th>\n",
       "      <th>MaxRadiation</th>\n",
       "    </tr>\n",
       "  </thead>\n",
       "  <tbody>\n",
       "    <tr>\n",
       "      <th>Day</th>\n",
       "      <td>1.000000</td>\n",
       "      <td>0.011337</td>\n",
       "      <td>0.005534</td>\n",
       "      <td>-0.026737</td>\n",
       "      <td>-0.023597</td>\n",
       "      <td>0.012438</td>\n",
       "      <td>-0.009908</td>\n",
       "      <td>0.020194</td>\n",
       "      <td>0.001810</td>\n",
       "      <td>-0.007138</td>\n",
       "      <td>-0.007970</td>\n",
       "      <td>-0.025246</td>\n",
       "      <td>0.031925</td>\n",
       "      <td>-0.012527</td>\n",
       "    </tr>\n",
       "    <tr>\n",
       "      <th>Month</th>\n",
       "      <td>0.011337</td>\n",
       "      <td>1.000000</td>\n",
       "      <td>-0.007650</td>\n",
       "      <td>-0.015876</td>\n",
       "      <td>-0.042033</td>\n",
       "      <td>0.270620</td>\n",
       "      <td>0.195072</td>\n",
       "      <td>0.415881</td>\n",
       "      <td>0.190686</td>\n",
       "      <td>-0.025137</td>\n",
       "      <td>0.156416</td>\n",
       "      <td>0.081969</td>\n",
       "      <td>-0.182563</td>\n",
       "      <td>0.042846</td>\n",
       "    </tr>\n",
       "    <tr>\n",
       "      <th>Year</th>\n",
       "      <td>0.005534</td>\n",
       "      <td>-0.007650</td>\n",
       "      <td>1.000000</td>\n",
       "      <td>-0.003431</td>\n",
       "      <td>-0.010428</td>\n",
       "      <td>0.089055</td>\n",
       "      <td>0.083138</td>\n",
       "      <td>0.094404</td>\n",
       "      <td>0.058577</td>\n",
       "      <td>0.052545</td>\n",
       "      <td>0.031824</td>\n",
       "      <td>0.000759</td>\n",
       "      <td>-0.039054</td>\n",
       "      <td>-0.022513</td>\n",
       "    </tr>\n",
       "    <tr>\n",
       "      <th>MinPressure</th>\n",
       "      <td>-0.026737</td>\n",
       "      <td>-0.015876</td>\n",
       "      <td>-0.003431</td>\n",
       "      <td>1.000000</td>\n",
       "      <td>0.981270</td>\n",
       "      <td>-0.808819</td>\n",
       "      <td>-0.825122</td>\n",
       "      <td>-0.476431</td>\n",
       "      <td>-0.361314</td>\n",
       "      <td>-0.614129</td>\n",
       "      <td>-0.825390</td>\n",
       "      <td>-0.294619</td>\n",
       "      <td>-0.251876</td>\n",
       "      <td>-0.588964</td>\n",
       "    </tr>\n",
       "    <tr>\n",
       "      <th>MaxPressure</th>\n",
       "      <td>-0.023597</td>\n",
       "      <td>-0.042033</td>\n",
       "      <td>-0.010428</td>\n",
       "      <td>0.981270</td>\n",
       "      <td>1.000000</td>\n",
       "      <td>-0.812156</td>\n",
       "      <td>-0.828078</td>\n",
       "      <td>-0.518096</td>\n",
       "      <td>-0.396837</td>\n",
       "      <td>-0.573611</td>\n",
       "      <td>-0.817011</td>\n",
       "      <td>-0.317833</td>\n",
       "      <td>-0.205878</td>\n",
       "      <td>-0.595545</td>\n",
       "    </tr>\n",
       "    <tr>\n",
       "      <th>MinVapour</th>\n",
       "      <td>0.012438</td>\n",
       "      <td>0.270620</td>\n",
       "      <td>0.089055</td>\n",
       "      <td>-0.808819</td>\n",
       "      <td>-0.812156</td>\n",
       "      <td>1.000000</td>\n",
       "      <td>0.900799</td>\n",
       "      <td>0.741861</td>\n",
       "      <td>0.492866</td>\n",
       "      <td>0.575405</td>\n",
       "      <td>0.859213</td>\n",
       "      <td>0.280680</td>\n",
       "      <td>0.164914</td>\n",
       "      <td>0.602115</td>\n",
       "    </tr>\n",
       "    <tr>\n",
       "      <th>MaxVapour</th>\n",
       "      <td>-0.009908</td>\n",
       "      <td>0.195072</td>\n",
       "      <td>0.083138</td>\n",
       "      <td>-0.825122</td>\n",
       "      <td>-0.828078</td>\n",
       "      <td>0.900799</td>\n",
       "      <td>1.000000</td>\n",
       "      <td>0.575771</td>\n",
       "      <td>0.551166</td>\n",
       "      <td>0.684524</td>\n",
       "      <td>0.920069</td>\n",
       "      <td>0.239333</td>\n",
       "      <td>0.233987</td>\n",
       "      <td>0.592770</td>\n",
       "    </tr>\n",
       "    <tr>\n",
       "      <th>MinRelativeHumidity</th>\n",
       "      <td>0.020194</td>\n",
       "      <td>0.415881</td>\n",
       "      <td>0.094404</td>\n",
       "      <td>-0.476431</td>\n",
       "      <td>-0.518096</td>\n",
       "      <td>0.741861</td>\n",
       "      <td>0.575771</td>\n",
       "      <td>1.000000</td>\n",
       "      <td>0.637929</td>\n",
       "      <td>-0.004094</td>\n",
       "      <td>0.438386</td>\n",
       "      <td>0.378737</td>\n",
       "      <td>-0.244592</td>\n",
       "      <td>0.418813</td>\n",
       "    </tr>\n",
       "    <tr>\n",
       "      <th>MaxRelativeHumidity</th>\n",
       "      <td>0.001810</td>\n",
       "      <td>0.190686</td>\n",
       "      <td>0.058577</td>\n",
       "      <td>-0.361314</td>\n",
       "      <td>-0.396837</td>\n",
       "      <td>0.492866</td>\n",
       "      <td>0.551166</td>\n",
       "      <td>0.637929</td>\n",
       "      <td>1.000000</td>\n",
       "      <td>-0.030143</td>\n",
       "      <td>0.309932</td>\n",
       "      <td>0.353827</td>\n",
       "      <td>-0.316643</td>\n",
       "      <td>0.321599</td>\n",
       "    </tr>\n",
       "    <tr>\n",
       "      <th>MinTemperature</th>\n",
       "      <td>-0.007138</td>\n",
       "      <td>-0.025137</td>\n",
       "      <td>0.052545</td>\n",
       "      <td>-0.614129</td>\n",
       "      <td>-0.573611</td>\n",
       "      <td>0.575405</td>\n",
       "      <td>0.684524</td>\n",
       "      <td>-0.004094</td>\n",
       "      <td>-0.030143</td>\n",
       "      <td>1.000000</td>\n",
       "      <td>0.788499</td>\n",
       "      <td>0.000678</td>\n",
       "      <td>0.552022</td>\n",
       "      <td>0.359069</td>\n",
       "    </tr>\n",
       "    <tr>\n",
       "      <th>MaxTemperature</th>\n",
       "      <td>-0.007970</td>\n",
       "      <td>0.156416</td>\n",
       "      <td>0.031824</td>\n",
       "      <td>-0.825390</td>\n",
       "      <td>-0.817011</td>\n",
       "      <td>0.859213</td>\n",
       "      <td>0.920069</td>\n",
       "      <td>0.438386</td>\n",
       "      <td>0.309932</td>\n",
       "      <td>0.788499</td>\n",
       "      <td>1.000000</td>\n",
       "      <td>0.162273</td>\n",
       "      <td>0.325552</td>\n",
       "      <td>0.575525</td>\n",
       "    </tr>\n",
       "    <tr>\n",
       "      <th>Rain</th>\n",
       "      <td>-0.025246</td>\n",
       "      <td>0.081969</td>\n",
       "      <td>0.000759</td>\n",
       "      <td>-0.294619</td>\n",
       "      <td>-0.317833</td>\n",
       "      <td>0.280680</td>\n",
       "      <td>0.239333</td>\n",
       "      <td>0.378737</td>\n",
       "      <td>0.353827</td>\n",
       "      <td>0.000678</td>\n",
       "      <td>0.162273</td>\n",
       "      <td>1.000000</td>\n",
       "      <td>-0.197305</td>\n",
       "      <td>0.147586</td>\n",
       "    </tr>\n",
       "    <tr>\n",
       "      <th>MinRadiation</th>\n",
       "      <td>0.031925</td>\n",
       "      <td>-0.182563</td>\n",
       "      <td>-0.039054</td>\n",
       "      <td>-0.251876</td>\n",
       "      <td>-0.205878</td>\n",
       "      <td>0.164914</td>\n",
       "      <td>0.233987</td>\n",
       "      <td>-0.244592</td>\n",
       "      <td>-0.316643</td>\n",
       "      <td>0.552022</td>\n",
       "      <td>0.325552</td>\n",
       "      <td>-0.197305</td>\n",
       "      <td>1.000000</td>\n",
       "      <td>0.247646</td>\n",
       "    </tr>\n",
       "    <tr>\n",
       "      <th>MaxRadiation</th>\n",
       "      <td>-0.012527</td>\n",
       "      <td>0.042846</td>\n",
       "      <td>-0.022513</td>\n",
       "      <td>-0.588964</td>\n",
       "      <td>-0.595545</td>\n",
       "      <td>0.602115</td>\n",
       "      <td>0.592770</td>\n",
       "      <td>0.418813</td>\n",
       "      <td>0.321599</td>\n",
       "      <td>0.359069</td>\n",
       "      <td>0.575525</td>\n",
       "      <td>0.147586</td>\n",
       "      <td>0.247646</td>\n",
       "      <td>1.000000</td>\n",
       "    </tr>\n",
       "  </tbody>\n",
       "</table>\n",
       "</div>"
      ],
      "text/plain": [
       "                          Day     Month      Year  MinPressure  MaxPressure  \\\n",
       "Day                  1.000000  0.011337  0.005534    -0.026737    -0.023597   \n",
       "Month                0.011337  1.000000 -0.007650    -0.015876    -0.042033   \n",
       "Year                 0.005534 -0.007650  1.000000    -0.003431    -0.010428   \n",
       "MinPressure         -0.026737 -0.015876 -0.003431     1.000000     0.981270   \n",
       "MaxPressure         -0.023597 -0.042033 -0.010428     0.981270     1.000000   \n",
       "MinVapour            0.012438  0.270620  0.089055    -0.808819    -0.812156   \n",
       "MaxVapour           -0.009908  0.195072  0.083138    -0.825122    -0.828078   \n",
       "MinRelativeHumidity  0.020194  0.415881  0.094404    -0.476431    -0.518096   \n",
       "MaxRelativeHumidity  0.001810  0.190686  0.058577    -0.361314    -0.396837   \n",
       "MinTemperature      -0.007138 -0.025137  0.052545    -0.614129    -0.573611   \n",
       "MaxTemperature      -0.007970  0.156416  0.031824    -0.825390    -0.817011   \n",
       "Rain                -0.025246  0.081969  0.000759    -0.294619    -0.317833   \n",
       "MinRadiation         0.031925 -0.182563 -0.039054    -0.251876    -0.205878   \n",
       "MaxRadiation        -0.012527  0.042846 -0.022513    -0.588964    -0.595545   \n",
       "\n",
       "                     MinVapour  MaxVapour  MinRelativeHumidity  \\\n",
       "Day                   0.012438  -0.009908             0.020194   \n",
       "Month                 0.270620   0.195072             0.415881   \n",
       "Year                  0.089055   0.083138             0.094404   \n",
       "MinPressure          -0.808819  -0.825122            -0.476431   \n",
       "MaxPressure          -0.812156  -0.828078            -0.518096   \n",
       "MinVapour             1.000000   0.900799             0.741861   \n",
       "MaxVapour             0.900799   1.000000             0.575771   \n",
       "MinRelativeHumidity   0.741861   0.575771             1.000000   \n",
       "MaxRelativeHumidity   0.492866   0.551166             0.637929   \n",
       "MinTemperature        0.575405   0.684524            -0.004094   \n",
       "MaxTemperature        0.859213   0.920069             0.438386   \n",
       "Rain                  0.280680   0.239333             0.378737   \n",
       "MinRadiation          0.164914   0.233987            -0.244592   \n",
       "MaxRadiation          0.602115   0.592770             0.418813   \n",
       "\n",
       "                     MaxRelativeHumidity  MinTemperature  MaxTemperature  \\\n",
       "Day                             0.001810       -0.007138       -0.007970   \n",
       "Month                           0.190686       -0.025137        0.156416   \n",
       "Year                            0.058577        0.052545        0.031824   \n",
       "MinPressure                    -0.361314       -0.614129       -0.825390   \n",
       "MaxPressure                    -0.396837       -0.573611       -0.817011   \n",
       "MinVapour                       0.492866        0.575405        0.859213   \n",
       "MaxVapour                       0.551166        0.684524        0.920069   \n",
       "MinRelativeHumidity             0.637929       -0.004094        0.438386   \n",
       "MaxRelativeHumidity             1.000000       -0.030143        0.309932   \n",
       "MinTemperature                 -0.030143        1.000000        0.788499   \n",
       "MaxTemperature                  0.309932        0.788499        1.000000   \n",
       "Rain                            0.353827        0.000678        0.162273   \n",
       "MinRadiation                   -0.316643        0.552022        0.325552   \n",
       "MaxRadiation                    0.321599        0.359069        0.575525   \n",
       "\n",
       "                         Rain  MinRadiation  MaxRadiation  \n",
       "Day                 -0.025246      0.031925     -0.012527  \n",
       "Month                0.081969     -0.182563      0.042846  \n",
       "Year                 0.000759     -0.039054     -0.022513  \n",
       "MinPressure         -0.294619     -0.251876     -0.588964  \n",
       "MaxPressure         -0.317833     -0.205878     -0.595545  \n",
       "MinVapour            0.280680      0.164914      0.602115  \n",
       "MaxVapour            0.239333      0.233987      0.592770  \n",
       "MinRelativeHumidity  0.378737     -0.244592      0.418813  \n",
       "MaxRelativeHumidity  0.353827     -0.316643      0.321599  \n",
       "MinTemperature       0.000678      0.552022      0.359069  \n",
       "MaxTemperature       0.162273      0.325552      0.575525  \n",
       "Rain                 1.000000     -0.197305      0.147586  \n",
       "MinRadiation        -0.197305      1.000000      0.247646  \n",
       "MaxRadiation         0.147586      0.247646      1.000000  "
      ]
     },
     "execution_count": 5,
     "metadata": {},
     "output_type": "execute_result"
    }
   ],
   "source": [
    "dataset.corr()"
   ]
  },
  {
   "cell_type": "markdown",
   "metadata": {},
   "source": [
    "## Normalizingg"
   ]
  },
  {
   "cell_type": "code",
   "execution_count": 6,
   "metadata": {
    "collapsed": true
   },
   "outputs": [],
   "source": [
    "cols_to_norm =['Day','Month', 'Year', 'MinPressure', 'MaxPressure', 'MinVapour',\n",
    "     'MaxVapour', 'MinRelativeHumidity', 'MaxRelativeHumidity',\n",
    "   'MinTemperature', 'MaxTemperature','Rain']"
   ]
  },
  {
   "cell_type": "code",
   "execution_count": 7,
   "metadata": {
    "collapsed": true
   },
   "outputs": [],
   "source": [
    "from sklearn.preprocessing import MinMaxScaler"
   ]
  },
  {
   "cell_type": "code",
   "execution_count": 8,
   "metadata": {
    "collapsed": true
   },
   "outputs": [],
   "source": [
    "scaler = MinMaxScaler()"
   ]
  },
  {
   "cell_type": "code",
   "execution_count": 9,
   "metadata": {
    "collapsed": true
   },
   "outputs": [],
   "source": [
    "def normal(x):\n",
    "   return (x-x.min())/(x.max()-x.min())"
   ]
  },
  {
   "cell_type": "code",
   "execution_count": 10,
   "metadata": {
    "collapsed": true
   },
   "outputs": [],
   "source": [
    "dataset[cols_to_norm] = dataset[cols_to_norm].apply(lambda x: normal(x))"
   ]
  },
  {
   "cell_type": "code",
   "execution_count": 11,
   "metadata": {
    "collapsed": true
   },
   "outputs": [],
   "source": [
    "#dataset[2000:2100]"
   ]
  },
  {
   "cell_type": "markdown",
   "metadata": {},
   "source": [
    "## Feature columns distinguising"
   ]
  },
  {
   "cell_type": "code",
   "execution_count": 105,
   "metadata": {
    "collapsed": true
   },
   "outputs": [],
   "source": [
    "day = tf.feature_column.numeric_column('Day')\n",
    "month = tf.feature_column.numeric_column('Month')\n",
    "year = tf.feature_column.numeric_column('Year')\n",
    "minpressure = tf.feature_column.numeric_column('MinPressure')\n",
    "maxpressure = tf.feature_column.numeric_column('MaxPressure')\n",
    "minvapour = tf.feature_column.numeric_column('MinVapour')\n",
    "maxvapour = tf.feature_column.numeric_column('MaxVapour')\n",
    "minrh = tf.feature_column.numeric_column('MinRelativeHumidity')\n",
    "maxrh = tf.feature_column.numeric_column('MaxRelativeHumidity')\n",
    "mintemp = tf.feature_column.numeric_column('MinTemperature')\n",
    "maxtemp = tf.feature_column.numeric_column('MaxTemperature')"
   ]
  },
  {
   "cell_type": "code",
   "execution_count": 106,
   "metadata": {
    "collapsed": true
   },
   "outputs": [],
   "source": [
    "feat_col = [minpressure,maxpressure,minvapour,maxvapour,minrh,maxrh,maxtemp]"
   ]
  },
  {
   "cell_type": "markdown",
   "metadata": {},
   "source": [
    "### SPLIT"
   ]
  },
  {
   "cell_type": "code",
   "execution_count": 107,
   "metadata": {
    "collapsed": true
   },
   "outputs": [],
   "source": [
    "x_data = dataset.iloc[:, :-3]"
   ]
  },
  {
   "cell_type": "code",
   "execution_count": 108,
   "metadata": {
    "collapsed": true
   },
   "outputs": [],
   "source": [
    "y_data = dataset['Rain']"
   ]
  },
  {
   "cell_type": "code",
   "execution_count": 109,
   "metadata": {
    "collapsed": true
   },
   "outputs": [],
   "source": [
    "from sklearn.model_selection import train_test_split"
   ]
  },
  {
   "cell_type": "code",
   "execution_count": 110,
   "metadata": {
    "collapsed": true
   },
   "outputs": [],
   "source": [
    "x_train,x_test,y_train,y_test = train_test_split(x_data,y_data,test_size=0.3,random_state=101)"
   ]
  },
  {
   "cell_type": "code",
   "execution_count": 111,
   "metadata": {
    "collapsed": true
   },
   "outputs": [],
   "source": [
    "sess = tf.InteractiveSession()"
   ]
  },
  {
   "cell_type": "markdown",
   "metadata": {},
   "source": [
    "### MODEL TRAINING & EVALUATING"
   ]
  },
  {
   "cell_type": "code",
   "execution_count": 112,
   "metadata": {
    "collapsed": true
   },
   "outputs": [],
   "source": [
    "input_func = tf.estimator.inputs.pandas_input_fn(x_train,y_train,batch_size=15,num_epochs=500,shuffle=True)"
   ]
  },
  {
   "cell_type": "code",
   "execution_count": 113,
   "metadata": {},
   "outputs": [
    {
     "name": "stdout",
     "output_type": "stream",
     "text": [
      "INFO:tensorflow:Using default config.\n",
      "WARNING:tensorflow:Using temporary folder as model directory: C:\\Users\\Debraj\\AppData\\Local\\Temp\\tmpd8kdtzl5\n",
      "INFO:tensorflow:Using config: {'_session_config': None, '_tf_random_seed': 1, '_log_step_count_steps': 100, '_model_dir': 'C:\\\\Users\\\\Debraj\\\\AppData\\\\Local\\\\Temp\\\\tmpd8kdtzl5', '_save_checkpoints_steps': None, '_save_checkpoints_secs': 600, '_keep_checkpoint_every_n_hours': 10000, '_keep_checkpoint_max': 5, '_save_summary_steps': 100}\n"
     ]
    }
   ],
   "source": [
    "model = tf.estimator.DNNRegressor(hidden_units=[100,95,105,98,102,100],feature_columns=feat_col)  \n",
    "#model = tf.estimator.LinearRegressor(feature_columns=feat_col, optimizer='Adagrad')\n"
   ]
  },
  {
   "cell_type": "code",
   "execution_count": 114,
   "metadata": {
    "scrolled": true
   },
   "outputs": [
    {
     "name": "stdout",
     "output_type": "stream",
     "text": [
      "INFO:tensorflow:Create CheckpointSaverHook.\n",
      "INFO:tensorflow:Saving checkpoints for 1 into C:\\Users\\Debraj\\AppData\\Local\\Temp\\tmpd8kdtzl5\\model.ckpt.\n",
      "INFO:tensorflow:loss = 0.0207482, step = 1\n",
      "INFO:tensorflow:global_step/sec: 271.348\n",
      "INFO:tensorflow:loss = 0.0208185, step = 101 (0.371 sec)\n",
      "INFO:tensorflow:global_step/sec: 268.571\n",
      "INFO:tensorflow:loss = 0.00970659, step = 201 (0.373 sec)\n",
      "INFO:tensorflow:global_step/sec: 318.651\n",
      "INFO:tensorflow:loss = 0.100791, step = 301 (0.314 sec)\n",
      "INFO:tensorflow:global_step/sec: 310.391\n",
      "INFO:tensorflow:loss = 0.00916555, step = 401 (0.322 sec)\n",
      "INFO:tensorflow:global_step/sec: 316.999\n",
      "INFO:tensorflow:loss = 0.0163831, step = 501 (0.315 sec)\n",
      "INFO:tensorflow:global_step/sec: 322.354\n",
      "INFO:tensorflow:loss = 0.00564291, step = 601 (0.310 sec)\n",
      "INFO:tensorflow:global_step/sec: 261.106\n",
      "INFO:tensorflow:loss = 0.0496104, step = 701 (0.384 sec)\n",
      "INFO:tensorflow:global_step/sec: 308.483\n",
      "INFO:tensorflow:loss = 0.0246083, step = 801 (0.326 sec)\n",
      "INFO:tensorflow:global_step/sec: 308.059\n",
      "INFO:tensorflow:loss = 0.0387033, step = 901 (0.322 sec)\n",
      "INFO:tensorflow:global_step/sec: 308.177\n",
      "INFO:tensorflow:loss = 0.0259273, step = 1001 (0.325 sec)\n",
      "INFO:tensorflow:global_step/sec: 299.259\n",
      "INFO:tensorflow:loss = 0.00687903, step = 1101 (0.334 sec)\n",
      "INFO:tensorflow:global_step/sec: 314.608\n",
      "INFO:tensorflow:loss = 0.0611541, step = 1201 (0.318 sec)\n",
      "INFO:tensorflow:global_step/sec: 295.314\n",
      "INFO:tensorflow:loss = 0.0136989, step = 1301 (0.339 sec)\n",
      "INFO:tensorflow:global_step/sec: 310.64\n",
      "INFO:tensorflow:loss = 0.010677, step = 1401 (0.322 sec)\n",
      "INFO:tensorflow:global_step/sec: 323.128\n",
      "INFO:tensorflow:loss = 0.0263043, step = 1501 (0.310 sec)\n",
      "INFO:tensorflow:global_step/sec: 325.005\n",
      "INFO:tensorflow:loss = 0.0647052, step = 1601 (0.307 sec)\n",
      "INFO:tensorflow:global_step/sec: 327.018\n",
      "INFO:tensorflow:loss = 0.0505312, step = 1701 (0.306 sec)\n",
      "INFO:tensorflow:global_step/sec: 327.395\n",
      "INFO:tensorflow:loss = 0.0600824, step = 1801 (0.306 sec)\n",
      "INFO:tensorflow:global_step/sec: 322.824\n",
      "INFO:tensorflow:loss = 0.0180371, step = 1901 (0.309 sec)\n",
      "INFO:tensorflow:global_step/sec: 323.964\n",
      "INFO:tensorflow:loss = 0.0114941, step = 2001 (0.309 sec)\n",
      "INFO:tensorflow:global_step/sec: 321.884\n",
      "INFO:tensorflow:loss = 0.173286, step = 2101 (0.311 sec)\n",
      "INFO:tensorflow:global_step/sec: 305.265\n",
      "INFO:tensorflow:loss = 0.0159328, step = 2201 (0.328 sec)\n",
      "INFO:tensorflow:global_step/sec: 326.695\n",
      "INFO:tensorflow:loss = 0.00764506, step = 2301 (0.307 sec)\n",
      "INFO:tensorflow:global_step/sec: 322.559\n",
      "INFO:tensorflow:loss = 0.0284558, step = 2401 (0.310 sec)\n",
      "INFO:tensorflow:global_step/sec: 319.316\n",
      "INFO:tensorflow:loss = 0.107777, step = 2501 (0.314 sec)\n",
      "INFO:tensorflow:global_step/sec: 313.982\n",
      "INFO:tensorflow:loss = 0.0244278, step = 2601 (0.318 sec)\n",
      "INFO:tensorflow:global_step/sec: 325.454\n",
      "INFO:tensorflow:loss = 0.00870748, step = 2701 (0.307 sec)\n",
      "INFO:tensorflow:global_step/sec: 309.822\n",
      "INFO:tensorflow:loss = 0.00194337, step = 2801 (0.323 sec)\n",
      "INFO:tensorflow:global_step/sec: 295.144\n",
      "INFO:tensorflow:loss = 0.0214791, step = 2901 (0.339 sec)\n",
      "INFO:tensorflow:global_step/sec: 317.837\n",
      "INFO:tensorflow:loss = 0.0371184, step = 3001 (0.314 sec)\n",
      "INFO:tensorflow:global_step/sec: 295.693\n",
      "INFO:tensorflow:loss = 0.231925, step = 3101 (0.341 sec)\n",
      "INFO:tensorflow:global_step/sec: 264.904\n",
      "INFO:tensorflow:loss = 0.0470894, step = 3201 (0.375 sec)\n",
      "INFO:tensorflow:global_step/sec: 313.18\n",
      "INFO:tensorflow:loss = 0.0106915, step = 3301 (0.319 sec)\n",
      "INFO:tensorflow:global_step/sec: 324.762\n",
      "INFO:tensorflow:loss = 0.0290457, step = 3401 (0.308 sec)\n",
      "INFO:tensorflow:global_step/sec: 250.056\n",
      "INFO:tensorflow:loss = 0.166242, step = 3501 (0.400 sec)\n",
      "INFO:tensorflow:global_step/sec: 289.509\n",
      "INFO:tensorflow:loss = 0.0240219, step = 3601 (0.349 sec)\n",
      "INFO:tensorflow:global_step/sec: 271.184\n",
      "INFO:tensorflow:loss = 0.0543551, step = 3701 (0.364 sec)\n",
      "INFO:tensorflow:global_step/sec: 320.107\n",
      "INFO:tensorflow:loss = 0.0849206, step = 3801 (0.312 sec)\n",
      "INFO:tensorflow:global_step/sec: 268.452\n",
      "INFO:tensorflow:loss = 0.00715241, step = 3901 (0.375 sec)\n",
      "INFO:tensorflow:global_step/sec: 229.176\n",
      "INFO:tensorflow:loss = 0.0202009, step = 4001 (0.434 sec)\n",
      "INFO:tensorflow:global_step/sec: 318.998\n",
      "INFO:tensorflow:loss = 0.00475034, step = 4101 (0.313 sec)\n",
      "INFO:tensorflow:global_step/sec: 321.261\n",
      "INFO:tensorflow:loss = 0.00743971, step = 4201 (0.311 sec)\n",
      "INFO:tensorflow:global_step/sec: 291.367\n",
      "INFO:tensorflow:loss = 0.000890225, step = 4301 (0.344 sec)\n",
      "INFO:tensorflow:global_step/sec: 266.978\n",
      "INFO:tensorflow:loss = 0.0328209, step = 4401 (0.376 sec)\n",
      "INFO:tensorflow:global_step/sec: 228.125\n",
      "INFO:tensorflow:loss = 0.001687, step = 4501 (0.439 sec)\n",
      "INFO:tensorflow:global_step/sec: 254.266\n",
      "INFO:tensorflow:loss = 0.0129998, step = 4601 (0.391 sec)\n",
      "INFO:tensorflow:global_step/sec: 253.318\n",
      "INFO:tensorflow:loss = 0.0128158, step = 4701 (0.395 sec)\n",
      "INFO:tensorflow:global_step/sec: 264.94\n",
      "INFO:tensorflow:loss = 0.460701, step = 4801 (0.378 sec)\n",
      "INFO:tensorflow:global_step/sec: 256.695\n",
      "INFO:tensorflow:loss = 0.149911, step = 4901 (0.393 sec)\n",
      "INFO:tensorflow:Saving checkpoints for 5000 into C:\\Users\\Debraj\\AppData\\Local\\Temp\\tmpd8kdtzl5\\model.ckpt.\n",
      "INFO:tensorflow:Loss for final step: 0.01876.\n"
     ]
    },
    {
     "data": {
      "text/plain": [
       "<tensorflow.python.estimator.canned.dnn.DNNRegressor at 0x1e3b4b690f0>"
      ]
     },
     "execution_count": 114,
     "metadata": {},
     "output_type": "execute_result"
    }
   ],
   "source": [
    "model.train(input_fn=input_func,steps=5000)"
   ]
  },
  {
   "cell_type": "code",
   "execution_count": 115,
   "metadata": {
    "collapsed": true
   },
   "outputs": [],
   "source": [
    "eval_input_func = tf.estimator.inputs.pandas_input_fn(x_test,y_test,batch_size=8,num_epochs=1,shuffle=False)"
   ]
  },
  {
   "cell_type": "code",
   "execution_count": 116,
   "metadata": {},
   "outputs": [
    {
     "name": "stdout",
     "output_type": "stream",
     "text": [
      "INFO:tensorflow:Starting evaluation at 2018-03-16-16:27:05\n",
      "INFO:tensorflow:Restoring parameters from C:\\Users\\Debraj\\AppData\\Local\\Temp\\tmpd8kdtzl5\\model.ckpt-5000\n",
      "INFO:tensorflow:Finished evaluation at 2018-03-16-16:27:06\n",
      "INFO:tensorflow:Saving dict for global step 5000: average_loss = 0.00374024, global_step = 5000, loss = 0.0296832\n"
     ]
    },
    {
     "data": {
      "text/plain": [
       "{'average_loss': 0.0037402429, 'global_step': 5000, 'loss': 0.029683204}"
      ]
     },
     "execution_count": 116,
     "metadata": {},
     "output_type": "execute_result"
    }
   ],
   "source": [
    "model.evaluate(eval_input_func)"
   ]
  },
  {
   "cell_type": "code",
   "execution_count": 117,
   "metadata": {
    "collapsed": true
   },
   "outputs": [],
   "source": [
    "pred_input_func = tf.estimator.inputs.pandas_input_fn(x_test,batch_size=8,num_epochs=1,shuffle=False)"
   ]
  },
  {
   "cell_type": "code",
   "execution_count": 118,
   "metadata": {
    "collapsed": true,
    "scrolled": true
   },
   "outputs": [],
   "source": [
    "pred_gen = model.predict(pred_input_func)"
   ]
  },
  {
   "cell_type": "code",
   "execution_count": 119,
   "metadata": {},
   "outputs": [
    {
     "data": {
      "text/plain": [
       "generator"
      ]
     },
     "execution_count": 119,
     "metadata": {},
     "output_type": "execute_result"
    }
   ],
   "source": [
    "type(pred_gen)"
   ]
  },
  {
   "cell_type": "code",
   "execution_count": 120,
   "metadata": {},
   "outputs": [
    {
     "name": "stdout",
     "output_type": "stream",
     "text": [
      "INFO:tensorflow:Restoring parameters from C:\\Users\\Debraj\\AppData\\Local\\Temp\\tmpd8kdtzl5\\model.ckpt-5000\n"
     ]
    }
   ],
   "source": [
    "predictions = list(pred_gen)"
   ]
  },
  {
   "cell_type": "code",
   "execution_count": 121,
   "metadata": {},
   "outputs": [
    {
     "data": {
      "text/plain": [
       "1738"
      ]
     },
     "execution_count": 121,
     "metadata": {},
     "output_type": "execute_result"
    }
   ],
   "source": [
    "y_train.size"
   ]
  },
  {
   "cell_type": "code",
   "execution_count": 122,
   "metadata": {},
   "outputs": [
    {
     "data": {
      "text/plain": [
       "[{'predictions': array([ 0.03413254], dtype=float32)},\n",
       " {'predictions': array([-0.00121401], dtype=float32)},\n",
       " {'predictions': array([ -1.43721700e-05], dtype=float32)},\n",
       " {'predictions': array([ 0.00238716], dtype=float32)},\n",
       " {'predictions': array([  4.09483910e-05], dtype=float32)},\n",
       " {'predictions': array([ 0.39142531], dtype=float32)},\n",
       " {'predictions': array([ 0.06875932], dtype=float32)},\n",
       " {'predictions': array([-0.00497016], dtype=float32)},\n",
       " {'predictions': array([-0.00191813], dtype=float32)},\n",
       " {'predictions': array([ 0.00692844], dtype=float32)},\n",
       " {'predictions': array([-0.00054868], dtype=float32)},\n",
       " {'predictions': array([-0.00199756], dtype=float32)},\n",
       " {'predictions': array([ 0.00449917], dtype=float32)},\n",
       " {'predictions': array([-0.00227152], dtype=float32)},\n",
       " {'predictions': array([ 0.10305703], dtype=float32)},\n",
       " {'predictions': array([ 0.00933222], dtype=float32)},\n",
       " {'predictions': array([-0.00044885], dtype=float32)},\n",
       " {'predictions': array([ 0.18677168], dtype=float32)},\n",
       " {'predictions': array([ 0.03831079], dtype=float32)},\n",
       " {'predictions': array([-0.00161523], dtype=float32)},\n",
       " {'predictions': array([ 0.15077826], dtype=float32)},\n",
       " {'predictions': array([ 0.06742523], dtype=float32)},\n",
       " {'predictions': array([ 0.14227763], dtype=float32)},\n",
       " {'predictions': array([ 0.00112727], dtype=float32)},\n",
       " {'predictions': array([ 0.01716978], dtype=float32)},\n",
       " {'predictions': array([ 0.06971283], dtype=float32)},\n",
       " {'predictions': array([ 0.00303231], dtype=float32)},\n",
       " {'predictions': array([-0.0047736], dtype=float32)},\n",
       " {'predictions': array([ 0.00433408], dtype=float32)},\n",
       " {'predictions': array([ 0.00279552], dtype=float32)},\n",
       " {'predictions': array([ 0.00057904], dtype=float32)},\n",
       " {'predictions': array([ 0.05956566], dtype=float32)},\n",
       " {'predictions': array([-0.00054912], dtype=float32)},\n",
       " {'predictions': array([ 0.01406427], dtype=float32)},\n",
       " {'predictions': array([-0.00036872], dtype=float32)},\n",
       " {'predictions': array([-0.00568767], dtype=float32)},\n",
       " {'predictions': array([ 0.00049604], dtype=float32)},\n",
       " {'predictions': array([-0.00116029], dtype=float32)},\n",
       " {'predictions': array([-0.00284789], dtype=float32)},\n",
       " {'predictions': array([ 0.06028081], dtype=float32)},\n",
       " {'predictions': array([ 0.16743967], dtype=float32)},\n",
       " {'predictions': array([-0.00798518], dtype=float32)},\n",
       " {'predictions': array([ 0.02972644], dtype=float32)},\n",
       " {'predictions': array([ 0.01677056], dtype=float32)},\n",
       " {'predictions': array([ 0.07150014], dtype=float32)},\n",
       " {'predictions': array([ 0.00068427], dtype=float32)},\n",
       " {'predictions': array([-0.00120669], dtype=float32)},\n",
       " {'predictions': array([ 0.00207927], dtype=float32)},\n",
       " {'predictions': array([ 0.05771516], dtype=float32)},\n",
       " {'predictions': array([ 0.00072476], dtype=float32)},\n",
       " {'predictions': array([ 0.00111976], dtype=float32)},\n",
       " {'predictions': array([ 0.08034016], dtype=float32)},\n",
       " {'predictions': array([ 0.05253343], dtype=float32)},\n",
       " {'predictions': array([ 0.13171098], dtype=float32)},\n",
       " {'predictions': array([ 0.04176994], dtype=float32)},\n",
       " {'predictions': array([-0.00708833], dtype=float32)},\n",
       " {'predictions': array([-0.00118525], dtype=float32)},\n",
       " {'predictions': array([ 0.00283755], dtype=float32)},\n",
       " {'predictions': array([ 0.00017312], dtype=float32)},\n",
       " {'predictions': array([ 0.14418377], dtype=float32)},\n",
       " {'predictions': array([-0.0053826], dtype=float32)},\n",
       " {'predictions': array([-0.00146686], dtype=float32)},\n",
       " {'predictions': array([-0.00371224], dtype=float32)},\n",
       " {'predictions': array([-0.00111406], dtype=float32)},\n",
       " {'predictions': array([ 0.00152464], dtype=float32)},\n",
       " {'predictions': array([ 0.00273142], dtype=float32)},\n",
       " {'predictions': array([ 0.01457576], dtype=float32)},\n",
       " {'predictions': array([ 0.03072847], dtype=float32)},\n",
       " {'predictions': array([ 0.00196297], dtype=float32)},\n",
       " {'predictions': array([ 0.00041974], dtype=float32)},\n",
       " {'predictions': array([ 0.00083615], dtype=float32)},\n",
       " {'predictions': array([ 0.03022879], dtype=float32)},\n",
       " {'predictions': array([ 0.04134943], dtype=float32)},\n",
       " {'predictions': array([-0.00444996], dtype=float32)},\n",
       " {'predictions': array([ 0.32883424], dtype=float32)},\n",
       " {'predictions': array([-0.0009488], dtype=float32)},\n",
       " {'predictions': array([-0.00073901], dtype=float32)},\n",
       " {'predictions': array([-0.00333742], dtype=float32)},\n",
       " {'predictions': array([ 0.05506947], dtype=float32)},\n",
       " {'predictions': array([ 0.0021388], dtype=float32)},\n",
       " {'predictions': array([ 0.01110296], dtype=float32)},\n",
       " {'predictions': array([-0.00511741], dtype=float32)},\n",
       " {'predictions': array([ 0.02469193], dtype=float32)},\n",
       " {'predictions': array([-0.00259439], dtype=float32)},\n",
       " {'predictions': array([ 0.12141633], dtype=float32)},\n",
       " {'predictions': array([-0.00440221], dtype=float32)},\n",
       " {'predictions': array([ 0.14051959], dtype=float32)},\n",
       " {'predictions': array([ 0.01062283], dtype=float32)},\n",
       " {'predictions': array([ 0.01638108], dtype=float32)},\n",
       " {'predictions': array([ 0.00044621], dtype=float32)},\n",
       " {'predictions': array([-0.00095742], dtype=float32)},\n",
       " {'predictions': array([ 0.20571402], dtype=float32)},\n",
       " {'predictions': array([-0.00449883], dtype=float32)},\n",
       " {'predictions': array([ 0.00265799], dtype=float32)},\n",
       " {'predictions': array([ 0.02106442], dtype=float32)},\n",
       " {'predictions': array([-0.00265927], dtype=float32)},\n",
       " {'predictions': array([ 0.02455249], dtype=float32)},\n",
       " {'predictions': array([-0.00849571], dtype=float32)},\n",
       " {'predictions': array([-0.00946287], dtype=float32)},\n",
       " {'predictions': array([-0.00288216], dtype=float32)},\n",
       " {'predictions': array([ 0.00033543], dtype=float32)},\n",
       " {'predictions': array([ 0.01573773], dtype=float32)},\n",
       " {'predictions': array([-0.00326171], dtype=float32)},\n",
       " {'predictions': array([ 0.07064027], dtype=float32)},\n",
       " {'predictions': array([ 0.04470512], dtype=float32)},\n",
       " {'predictions': array([ 0.00240891], dtype=float32)},\n",
       " {'predictions': array([ 0.0002125], dtype=float32)},\n",
       " {'predictions': array([-0.00908681], dtype=float32)},\n",
       " {'predictions': array([-0.00216711], dtype=float32)},\n",
       " {'predictions': array([-0.00030016], dtype=float32)},\n",
       " {'predictions': array([-0.00239433], dtype=float32)},\n",
       " {'predictions': array([ 0.14207488], dtype=float32)},\n",
       " {'predictions': array([ 0.13977778], dtype=float32)},\n",
       " {'predictions': array([ 0.00180149], dtype=float32)},\n",
       " {'predictions': array([-0.00518446], dtype=float32)},\n",
       " {'predictions': array([ 0.00272729], dtype=float32)},\n",
       " {'predictions': array([-0.00078624], dtype=float32)},\n",
       " {'predictions': array([ 0.05010484], dtype=float32)},\n",
       " {'predictions': array([-0.00398452], dtype=float32)},\n",
       " {'predictions': array([ 0.00031449], dtype=float32)},\n",
       " {'predictions': array([  8.81850719e-05], dtype=float32)},\n",
       " {'predictions': array([ 0.00120486], dtype=float32)},\n",
       " {'predictions': array([ 0.00137499], dtype=float32)},\n",
       " {'predictions': array([-0.0008908], dtype=float32)},\n",
       " {'predictions': array([-0.00400202], dtype=float32)},\n",
       " {'predictions': array([ 0.10692479], dtype=float32)},\n",
       " {'predictions': array([ 0.01929574], dtype=float32)},\n",
       " {'predictions': array([ 0.08461706], dtype=float32)},\n",
       " {'predictions': array([-0.00633112], dtype=float32)},\n",
       " {'predictions': array([ 0.06080291], dtype=float32)},\n",
       " {'predictions': array([-0.00012598], dtype=float32)},\n",
       " {'predictions': array([-0.00321083], dtype=float32)},\n",
       " {'predictions': array([-0.00826316], dtype=float32)},\n",
       " {'predictions': array([ 0.0187729], dtype=float32)},\n",
       " {'predictions': array([ 0.01809587], dtype=float32)},\n",
       " {'predictions': array([ 0.0089078], dtype=float32)},\n",
       " {'predictions': array([-0.00904572], dtype=float32)},\n",
       " {'predictions': array([-0.00632173], dtype=float32)},\n",
       " {'predictions': array([ 0.04507045], dtype=float32)},\n",
       " {'predictions': array([-0.00097706], dtype=float32)},\n",
       " {'predictions': array([-0.00292998], dtype=float32)},\n",
       " {'predictions': array([ 0.00499088], dtype=float32)},\n",
       " {'predictions': array([-0.00135019], dtype=float32)},\n",
       " {'predictions': array([ 0.00121994], dtype=float32)},\n",
       " {'predictions': array([ -6.58929348e-05], dtype=float32)},\n",
       " {'predictions': array([ 0.01150666], dtype=float32)},\n",
       " {'predictions': array([ 0.00169151], dtype=float32)},\n",
       " {'predictions': array([ 0.01579557], dtype=float32)},\n",
       " {'predictions': array([-0.00032819], dtype=float32)},\n",
       " {'predictions': array([-0.00844138], dtype=float32)},\n",
       " {'predictions': array([-0.00021716], dtype=float32)},\n",
       " {'predictions': array([ 0.00253943], dtype=float32)},\n",
       " {'predictions': array([-0.00842082], dtype=float32)},\n",
       " {'predictions': array([-0.00663219], dtype=float32)},\n",
       " {'predictions': array([-0.00219375], dtype=float32)},\n",
       " {'predictions': array([ 0.35278827], dtype=float32)},\n",
       " {'predictions': array([-0.00106349], dtype=float32)},\n",
       " {'predictions': array([ 0.08714842], dtype=float32)},\n",
       " {'predictions': array([ 0.21731377], dtype=float32)},\n",
       " {'predictions': array([ 0.00012323], dtype=float32)},\n",
       " {'predictions': array([ 0.07636307], dtype=float32)},\n",
       " {'predictions': array([-0.00305635], dtype=float32)},\n",
       " {'predictions': array([ 0.00278991], dtype=float32)},\n",
       " {'predictions': array([ 0.03120995], dtype=float32)},\n",
       " {'predictions': array([-0.00293326], dtype=float32)},\n",
       " {'predictions': array([-0.00194663], dtype=float32)},\n",
       " {'predictions': array([ 0.00347973], dtype=float32)},\n",
       " {'predictions': array([-0.00293971], dtype=float32)},\n",
       " {'predictions': array([-0.00725108], dtype=float32)},\n",
       " {'predictions': array([ 0.00060987], dtype=float32)},\n",
       " {'predictions': array([ 0.00341673], dtype=float32)},\n",
       " {'predictions': array([ 0.01172734], dtype=float32)},\n",
       " {'predictions': array([-0.00340353], dtype=float32)},\n",
       " {'predictions': array([ 0.00257798], dtype=float32)},\n",
       " {'predictions': array([-0.0047424], dtype=float32)},\n",
       " {'predictions': array([ 0.22922117], dtype=float32)},\n",
       " {'predictions': array([ 0.05999748], dtype=float32)},\n",
       " {'predictions': array([ 0.00646305], dtype=float32)},\n",
       " {'predictions': array([ 0.00254455], dtype=float32)},\n",
       " {'predictions': array([ 0.04115835], dtype=float32)},\n",
       " {'predictions': array([-0.00120346], dtype=float32)},\n",
       " {'predictions': array([ 0.01064045], dtype=float32)},\n",
       " {'predictions': array([-0.00478479], dtype=float32)},\n",
       " {'predictions': array([ 0.00204609], dtype=float32)},\n",
       " {'predictions': array([-0.0052658], dtype=float32)},\n",
       " {'predictions': array([-0.00133641], dtype=float32)},\n",
       " {'predictions': array([ 0.00049435], dtype=float32)},\n",
       " {'predictions': array([-0.00077987], dtype=float32)},\n",
       " {'predictions': array([-0.00641812], dtype=float32)},\n",
       " {'predictions': array([ 0.03820175], dtype=float32)},\n",
       " {'predictions': array([-0.00173457], dtype=float32)},\n",
       " {'predictions': array([-0.00605047], dtype=float32)},\n",
       " {'predictions': array([ 0.03190639], dtype=float32)},\n",
       " {'predictions': array([-0.00079399], dtype=float32)},\n",
       " {'predictions': array([ 0.00768486], dtype=float32)},\n",
       " {'predictions': array([ 0.00015388], dtype=float32)},\n",
       " {'predictions': array([ 0.00265486], dtype=float32)},\n",
       " {'predictions': array([-0.00065177], dtype=float32)},\n",
       " {'predictions': array([ 0.12338275], dtype=float32)},\n",
       " {'predictions': array([ 0.00519826], dtype=float32)},\n",
       " {'predictions': array([-0.00513709], dtype=float32)},\n",
       " {'predictions': array([-0.00080343], dtype=float32)},\n",
       " {'predictions': array([-0.00338922], dtype=float32)},\n",
       " {'predictions': array([ 0.30284321], dtype=float32)},\n",
       " {'predictions': array([-0.00867176], dtype=float32)},\n",
       " {'predictions': array([ 0.01873431], dtype=float32)},\n",
       " {'predictions': array([ 0.00115144], dtype=float32)},\n",
       " {'predictions': array([ 0.05556653], dtype=float32)},\n",
       " {'predictions': array([-0.01028462], dtype=float32)},\n",
       " {'predictions': array([-0.00964446], dtype=float32)},\n",
       " {'predictions': array([ 0.00085001], dtype=float32)},\n",
       " {'predictions': array([-0.00293992], dtype=float32)},\n",
       " {'predictions': array([ 0.00699046], dtype=float32)},\n",
       " {'predictions': array([-0.00029934], dtype=float32)},\n",
       " {'predictions': array([ 0.01500336], dtype=float32)},\n",
       " {'predictions': array([ 0.00768331], dtype=float32)},\n",
       " {'predictions': array([ 0.02980617], dtype=float32)},\n",
       " {'predictions': array([-0.00476279], dtype=float32)},\n",
       " {'predictions': array([ 0.04343781], dtype=float32)},\n",
       " {'predictions': array([-0.00480121], dtype=float32)},\n",
       " {'predictions': array([-0.00453269], dtype=float32)},\n",
       " {'predictions': array([ 0.03321796], dtype=float32)},\n",
       " {'predictions': array([ 0.06974788], dtype=float32)},\n",
       " {'predictions': array([ 0.00482733], dtype=float32)},\n",
       " {'predictions': array([ 0.01613928], dtype=float32)},\n",
       " {'predictions': array([-0.00531613], dtype=float32)},\n",
       " {'predictions': array([ 0.04122797], dtype=float32)},\n",
       " {'predictions': array([-0.00065034], dtype=float32)},\n",
       " {'predictions': array([-0.00060643], dtype=float32)},\n",
       " {'predictions': array([ 0.00246543], dtype=float32)},\n",
       " {'predictions': array([-0.00045115], dtype=float32)},\n",
       " {'predictions': array([ 0.00025615], dtype=float32)},\n",
       " {'predictions': array([ 0.29395279], dtype=float32)},\n",
       " {'predictions': array([ -2.38195062e-05], dtype=float32)},\n",
       " {'predictions': array([ 0.04575114], dtype=float32)},\n",
       " {'predictions': array([ 0.00147802], dtype=float32)},\n",
       " {'predictions': array([ 0.00105222], dtype=float32)},\n",
       " {'predictions': array([-0.00388875], dtype=float32)},\n",
       " {'predictions': array([ 0.00033582], dtype=float32)},\n",
       " {'predictions': array([ 0.01004268], dtype=float32)},\n",
       " {'predictions': array([ 0.02585224], dtype=float32)},\n",
       " {'predictions': array([ 0.00244472], dtype=float32)},\n",
       " {'predictions': array([-0.00505143], dtype=float32)},\n",
       " {'predictions': array([ 0.00012852], dtype=float32)},\n",
       " {'predictions': array([ 0.00010777], dtype=float32)},\n",
       " {'predictions': array([-0.00098019], dtype=float32)},\n",
       " {'predictions': array([ 0.0045137], dtype=float32)},\n",
       " {'predictions': array([ 0.01737206], dtype=float32)},\n",
       " {'predictions': array([-0.00931846], dtype=float32)},\n",
       " {'predictions': array([ 0.00053006], dtype=float32)},\n",
       " {'predictions': array([-0.00169248], dtype=float32)},\n",
       " {'predictions': array([-0.00542115], dtype=float32)},\n",
       " {'predictions': array([ 0.00221044], dtype=float32)},\n",
       " {'predictions': array([ -3.72901559e-05], dtype=float32)},\n",
       " {'predictions': array([ 0.00183748], dtype=float32)},\n",
       " {'predictions': array([-0.00358523], dtype=float32)},\n",
       " {'predictions': array([ 0.06010514], dtype=float32)},\n",
       " {'predictions': array([ 0.01884858], dtype=float32)},\n",
       " {'predictions': array([ 0.0054942], dtype=float32)},\n",
       " {'predictions': array([-0.00031842], dtype=float32)},\n",
       " {'predictions': array([ 0.02191569], dtype=float32)},\n",
       " {'predictions': array([-0.00345968], dtype=float32)},\n",
       " {'predictions': array([-0.00288011], dtype=float32)},\n",
       " {'predictions': array([-0.001846], dtype=float32)},\n",
       " {'predictions': array([ 0.00382036], dtype=float32)},\n",
       " {'predictions': array([ 0.00166774], dtype=float32)},\n",
       " {'predictions': array([ 0.0075727], dtype=float32)},\n",
       " {'predictions': array([ 0.00158324], dtype=float32)},\n",
       " {'predictions': array([ 0.00971874], dtype=float32)},\n",
       " {'predictions': array([ 0.01124693], dtype=float32)},\n",
       " {'predictions': array([ 0.02902173], dtype=float32)},\n",
       " {'predictions': array([ 0.04397869], dtype=float32)},\n",
       " {'predictions': array([-0.00104521], dtype=float32)},\n",
       " {'predictions': array([ 0.00011782], dtype=float32)},\n",
       " {'predictions': array([ 0.06294642], dtype=float32)},\n",
       " {'predictions': array([-0.00362115], dtype=float32)},\n",
       " {'predictions': array([-0.00337751], dtype=float32)},\n",
       " {'predictions': array([-0.00513642], dtype=float32)},\n",
       " {'predictions': array([-0.00060169], dtype=float32)},\n",
       " {'predictions': array([ 0.00140053], dtype=float32)},\n",
       " {'predictions': array([-0.00952347], dtype=float32)},\n",
       " {'predictions': array([ 0.0451339], dtype=float32)},\n",
       " {'predictions': array([ 0.207753], dtype=float32)},\n",
       " {'predictions': array([ 0.00251804], dtype=float32)},\n",
       " {'predictions': array([-0.0029635], dtype=float32)},\n",
       " {'predictions': array([ 0.0464307], dtype=float32)},\n",
       " {'predictions': array([-0.0034523], dtype=float32)},\n",
       " {'predictions': array([ 0.03855654], dtype=float32)},\n",
       " {'predictions': array([ 0.00848863], dtype=float32)},\n",
       " {'predictions': array([-0.00075652], dtype=float32)},\n",
       " {'predictions': array([ 0.28420353], dtype=float32)},\n",
       " {'predictions': array([-0.00069026], dtype=float32)},\n",
       " {'predictions': array([ 0.00347663], dtype=float32)},\n",
       " {'predictions': array([-0.00039678], dtype=float32)},\n",
       " {'predictions': array([ 0.10605124], dtype=float32)},\n",
       " {'predictions': array([-0.00760061], dtype=float32)},\n",
       " {'predictions': array([-0.00681123], dtype=float32)},\n",
       " {'predictions': array([ 0.02501901], dtype=float32)},\n",
       " {'predictions': array([-0.00157096], dtype=float32)},\n",
       " {'predictions': array([ 0.00480746], dtype=float32)},\n",
       " {'predictions': array([-0.00338711], dtype=float32)},\n",
       " {'predictions': array([ 0.03007598], dtype=float32)},\n",
       " {'predictions': array([ 0.01110627], dtype=float32)},\n",
       " {'predictions': array([-0.00108952], dtype=float32)},\n",
       " {'predictions': array([ 0.01999725], dtype=float32)},\n",
       " {'predictions': array([-0.00159836], dtype=float32)},\n",
       " {'predictions': array([-0.00104909], dtype=float32)},\n",
       " {'predictions': array([ 0.1281113], dtype=float32)},\n",
       " {'predictions': array([-0.00263245], dtype=float32)},\n",
       " {'predictions': array([-0.00191372], dtype=float32)},\n",
       " {'predictions': array([ 0.00046448], dtype=float32)},\n",
       " {'predictions': array([-0.00202861], dtype=float32)},\n",
       " {'predictions': array([-0.00105074], dtype=float32)},\n",
       " {'predictions': array([ 0.00049122], dtype=float32)},\n",
       " {'predictions': array([ 0.14490367], dtype=float32)},\n",
       " {'predictions': array([-0.00293326], dtype=float32)},\n",
       " {'predictions': array([-0.00124033], dtype=float32)},\n",
       " {'predictions': array([ 0.04655371], dtype=float32)},\n",
       " {'predictions': array([-0.00654828], dtype=float32)},\n",
       " {'predictions': array([ 0.00068132], dtype=float32)},\n",
       " {'predictions': array([-0.00659137], dtype=float32)},\n",
       " {'predictions': array([ 0.0433323], dtype=float32)},\n",
       " {'predictions': array([-0.00205608], dtype=float32)},\n",
       " {'predictions': array([ 0.00131172], dtype=float32)},\n",
       " {'predictions': array([ 0.16397369], dtype=float32)},\n",
       " {'predictions': array([ 0.10915807], dtype=float32)},\n",
       " {'predictions': array([-0.00625133], dtype=float32)},\n",
       " {'predictions': array([ 0.03937702], dtype=float32)},\n",
       " {'predictions': array([ 0.00104096], dtype=float32)},\n",
       " {'predictions': array([-0.0023681], dtype=float32)},\n",
       " {'predictions': array([-0.0052922], dtype=float32)},\n",
       " {'predictions': array([-0.00054846], dtype=float32)},\n",
       " {'predictions': array([-0.00258767], dtype=float32)},\n",
       " {'predictions': array([ 0.0142236], dtype=float32)},\n",
       " {'predictions': array([ 0.00049367], dtype=float32)},\n",
       " {'predictions': array([ 0.00025328], dtype=float32)},\n",
       " {'predictions': array([-0.00610952], dtype=float32)},\n",
       " {'predictions': array([-0.00080223], dtype=float32)},\n",
       " {'predictions': array([-0.00030785], dtype=float32)},\n",
       " {'predictions': array([-0.00416082], dtype=float32)},\n",
       " {'predictions': array([-0.00047278], dtype=float32)},\n",
       " {'predictions': array([ 0.0005549], dtype=float32)},\n",
       " {'predictions': array([ 0.16190186], dtype=float32)},\n",
       " {'predictions': array([-0.00436796], dtype=float32)},\n",
       " {'predictions': array([-0.00523312], dtype=float32)},\n",
       " {'predictions': array([ 0.0014082], dtype=float32)},\n",
       " {'predictions': array([ 0.00153933], dtype=float32)},\n",
       " {'predictions': array([ 0.03844295], dtype=float32)},\n",
       " {'predictions': array([ 0.02685594], dtype=float32)},\n",
       " {'predictions': array([ 0.00297966], dtype=float32)},\n",
       " {'predictions': array([-0.00623401], dtype=float32)},\n",
       " {'predictions': array([-0.00068339], dtype=float32)},\n",
       " {'predictions': array([-0.00729948], dtype=float32)},\n",
       " {'predictions': array([-0.01021896], dtype=float32)},\n",
       " {'predictions': array([ 0.00057644], dtype=float32)},\n",
       " {'predictions': array([ 0.00159176], dtype=float32)},\n",
       " {'predictions': array([ 0.00739624], dtype=float32)},\n",
       " {'predictions': array([ 0.25468925], dtype=float32)},\n",
       " {'predictions': array([ 0.10035607], dtype=float32)},\n",
       " {'predictions': array([ 0.02727327], dtype=float32)},\n",
       " {'predictions': array([ 0.00049438], dtype=float32)},\n",
       " {'predictions': array([ 0.01708866], dtype=float32)},\n",
       " {'predictions': array([ 0.1513523], dtype=float32)},\n",
       " {'predictions': array([-0.00371771], dtype=float32)},\n",
       " {'predictions': array([  8.81552696e-05], dtype=float32)},\n",
       " {'predictions': array([-0.00920729], dtype=float32)},\n",
       " {'predictions': array([ 0.00062229], dtype=float32)},\n",
       " {'predictions': array([-0.00483519], dtype=float32)},\n",
       " {'predictions': array([-0.00289861], dtype=float32)},\n",
       " {'predictions': array([-0.00126572], dtype=float32)},\n",
       " {'predictions': array([ 0.01494256], dtype=float32)},\n",
       " {'predictions': array([ 0.00025944], dtype=float32)},\n",
       " {'predictions': array([-0.00902162], dtype=float32)},\n",
       " {'predictions': array([-0.00051586], dtype=float32)},\n",
       " {'predictions': array([-0.00034691], dtype=float32)},\n",
       " {'predictions': array([ 0.11806174], dtype=float32)},\n",
       " {'predictions': array([ 0.00810235], dtype=float32)},\n",
       " {'predictions': array([-0.00147868], dtype=float32)},\n",
       " {'predictions': array([  9.63285565e-05], dtype=float32)},\n",
       " {'predictions': array([ 0.00049092], dtype=float32)},\n",
       " {'predictions': array([ 0.0006962], dtype=float32)},\n",
       " {'predictions': array([ 0.06492601], dtype=float32)},\n",
       " {'predictions': array([ 0.00054384], dtype=float32)},\n",
       " {'predictions': array([ -1.07288361e-05], dtype=float32)},\n",
       " {'predictions': array([-0.00530906], dtype=float32)},\n",
       " {'predictions': array([-0.00849023], dtype=float32)},\n",
       " {'predictions': array([-0.00440221], dtype=float32)},\n",
       " {'predictions': array([-0.00726548], dtype=float32)},\n",
       " {'predictions': array([ 0.01581605], dtype=float32)},\n",
       " {'predictions': array([ 0.00429844], dtype=float32)},\n",
       " {'predictions': array([ 0.00023877], dtype=float32)},\n",
       " {'predictions': array([ 0.00696588], dtype=float32)},\n",
       " {'predictions': array([ 0.00143469], dtype=float32)},\n",
       " {'predictions': array([ 0.00782237], dtype=float32)},\n",
       " {'predictions': array([-0.00696802], dtype=float32)},\n",
       " {'predictions': array([ 0.00052109], dtype=float32)},\n",
       " {'predictions': array([-0.00047658], dtype=float32)},\n",
       " {'predictions': array([ 0.02772515], dtype=float32)},\n",
       " {'predictions': array([-0.00090156], dtype=float32)},\n",
       " {'predictions': array([-0.00113504], dtype=float32)},\n",
       " {'predictions': array([-0.00588012], dtype=float32)},\n",
       " {'predictions': array([ 0.04046793], dtype=float32)},\n",
       " {'predictions': array([-0.0019999], dtype=float32)},\n",
       " {'predictions': array([-0.00170328], dtype=float32)},\n",
       " {'predictions': array([-0.00154597], dtype=float32)},\n",
       " {'predictions': array([ 0.00503951], dtype=float32)},\n",
       " {'predictions': array([-0.00077105], dtype=float32)},\n",
       " {'predictions': array([ 0.0614149], dtype=float32)},\n",
       " {'predictions': array([-0.00641675], dtype=float32)},\n",
       " {'predictions': array([-0.00111506], dtype=float32)},\n",
       " {'predictions': array([ 0.05838603], dtype=float32)},\n",
       " {'predictions': array([ 0.01686444], dtype=float32)},\n",
       " {'predictions': array([ 0.00293384], dtype=float32)},\n",
       " {'predictions': array([ 0.17674297], dtype=float32)},\n",
       " {'predictions': array([-0.00086761], dtype=float32)},\n",
       " {'predictions': array([-0.00204041], dtype=float32)},\n",
       " {'predictions': array([ 0.00530758], dtype=float32)},\n",
       " {'predictions': array([-0.00229184], dtype=float32)},\n",
       " {'predictions': array([ 0.01969776], dtype=float32)},\n",
       " {'predictions': array([-0.00189563], dtype=float32)},\n",
       " {'predictions': array([-0.0032408], dtype=float32)},\n",
       " {'predictions': array([ 0.15332767], dtype=float32)},\n",
       " {'predictions': array([ 0.00027392], dtype=float32)},\n",
       " {'predictions': array([-0.00129995], dtype=float32)},\n",
       " {'predictions': array([ 0.02458029], dtype=float32)},\n",
       " {'predictions': array([-0.00650629], dtype=float32)},\n",
       " {'predictions': array([ 0.00752098], dtype=float32)},\n",
       " {'predictions': array([ 0.0631927], dtype=float32)},\n",
       " {'predictions': array([-0.00163329], dtype=float32)},\n",
       " {'predictions': array([-0.00219926], dtype=float32)},\n",
       " {'predictions': array([ 0.02295272], dtype=float32)},\n",
       " {'predictions': array([ 0.02707723], dtype=float32)},\n",
       " {'predictions': array([-0.00379438], dtype=float32)},\n",
       " {'predictions': array([ 0.02309278], dtype=float32)},\n",
       " {'predictions': array([ 0.23055044], dtype=float32)},\n",
       " {'predictions': array([ 0.14836204], dtype=float32)},\n",
       " {'predictions': array([-0.00886523], dtype=float32)},\n",
       " {'predictions': array([-0.00215601], dtype=float32)},\n",
       " {'predictions': array([ 0.04425175], dtype=float32)},\n",
       " {'predictions': array([ 0.13236679], dtype=float32)},\n",
       " {'predictions': array([ 0.01275048], dtype=float32)},\n",
       " {'predictions': array([ 0.00984009], dtype=float32)},\n",
       " {'predictions': array([ 0.00279897], dtype=float32)},\n",
       " {'predictions': array([ 0.01223244], dtype=float32)},\n",
       " {'predictions': array([-0.00137788], dtype=float32)},\n",
       " {'predictions': array([ 0.01374962], dtype=float32)},\n",
       " {'predictions': array([ 0.04299652], dtype=float32)},\n",
       " {'predictions': array([ 0.21111965], dtype=float32)},\n",
       " {'predictions': array([-0.00162568], dtype=float32)},\n",
       " {'predictions': array([-0.00425833], dtype=float32)},\n",
       " {'predictions': array([ 0.05324537], dtype=float32)},\n",
       " {'predictions': array([-0.00126426], dtype=float32)},\n",
       " {'predictions': array([-0.00199998], dtype=float32)},\n",
       " {'predictions': array([-0.01014093], dtype=float32)},\n",
       " {'predictions': array([ 0.18414959], dtype=float32)},\n",
       " {'predictions': array([-0.00103454], dtype=float32)},\n",
       " {'predictions': array([-0.00020269], dtype=float32)},\n",
       " {'predictions': array([-0.00888086], dtype=float32)},\n",
       " {'predictions': array([-0.00888086], dtype=float32)},\n",
       " {'predictions': array([-0.00859392], dtype=float32)},\n",
       " {'predictions': array([-0.00240216], dtype=float32)},\n",
       " {'predictions': array([ 0.01825886], dtype=float32)},\n",
       " {'predictions': array([ 0.2049832], dtype=float32)},\n",
       " {'predictions': array([-0.00015205], dtype=float32)},\n",
       " {'predictions': array([ 0.0508106], dtype=float32)},\n",
       " {'predictions': array([-0.0026465], dtype=float32)},\n",
       " {'predictions': array([-0.00100801], dtype=float32)},\n",
       " {'predictions': array([ 0.12313692], dtype=float32)},\n",
       " {'predictions': array([-0.00195882], dtype=float32)},\n",
       " {'predictions': array([-0.0048243], dtype=float32)},\n",
       " {'predictions': array([ 0.03688011], dtype=float32)},\n",
       " {'predictions': array([-0.00511122], dtype=float32)},\n",
       " {'predictions': array([ 0.0557231], dtype=float32)},\n",
       " {'predictions': array([  6.32703304e-05], dtype=float32)},\n",
       " {'predictions': array([ 0.34170234], dtype=float32)},\n",
       " {'predictions': array([ 0.03951962], dtype=float32)},\n",
       " {'predictions': array([ 0.00383868], dtype=float32)},\n",
       " {'predictions': array([ 0.00174941], dtype=float32)},\n",
       " {'predictions': array([ 0.04045207], dtype=float32)},\n",
       " {'predictions': array([ 0.00237338], dtype=float32)},\n",
       " {'predictions': array([-0.00060578], dtype=float32)},\n",
       " {'predictions': array([-0.00780474], dtype=float32)},\n",
       " {'predictions': array([-0.00206685], dtype=float32)},\n",
       " {'predictions': array([-0.00083886], dtype=float32)},\n",
       " {'predictions': array([-0.00027191], dtype=float32)},\n",
       " {'predictions': array([ 0.15397699], dtype=float32)},\n",
       " {'predictions': array([ 0.03863152], dtype=float32)},\n",
       " {'predictions': array([ 0.14324331], dtype=float32)},\n",
       " {'predictions': array([ 0.00939102], dtype=float32)},\n",
       " {'predictions': array([ 0.00710099], dtype=float32)},\n",
       " {'predictions': array([-0.00313565], dtype=float32)},\n",
       " {'predictions': array([ -5.47245145e-05], dtype=float32)},\n",
       " {'predictions': array([-0.00075178], dtype=float32)},\n",
       " {'predictions': array([ 0.19930863], dtype=float32)},\n",
       " {'predictions': array([ 0.00152858], dtype=float32)},\n",
       " {'predictions': array([ 0.01828711], dtype=float32)},\n",
       " {'predictions': array([ 0.00091802], dtype=float32)},\n",
       " {'predictions': array([-0.00244142], dtype=float32)},\n",
       " {'predictions': array([ 0.08285348], dtype=float32)},\n",
       " {'predictions': array([ 0.07259911], dtype=float32)},\n",
       " {'predictions': array([ 0.00322056], dtype=float32)},\n",
       " {'predictions': array([ 0.00127935], dtype=float32)},\n",
       " {'predictions': array([-0.00271583], dtype=float32)},\n",
       " {'predictions': array([-0.00059795], dtype=float32)},\n",
       " {'predictions': array([-0.00148751], dtype=float32)},\n",
       " {'predictions': array([-0.00221696], dtype=float32)},\n",
       " {'predictions': array([-0.0093814], dtype=float32)},\n",
       " {'predictions': array([ 0.01152783], dtype=float32)},\n",
       " {'predictions': array([-0.00250029], dtype=float32)},\n",
       " {'predictions': array([ 0.12488948], dtype=float32)},\n",
       " {'predictions': array([-0.00166644], dtype=float32)},\n",
       " {'predictions': array([ 0.16605228], dtype=float32)},\n",
       " {'predictions': array([-0.00354245], dtype=float32)},\n",
       " {'predictions': array([-0.00632517], dtype=float32)},\n",
       " {'predictions': array([ 0.00048455], dtype=float32)},\n",
       " {'predictions': array([ 0.00702524], dtype=float32)},\n",
       " {'predictions': array([-0.00887556], dtype=float32)},\n",
       " {'predictions': array([ 0.00322364], dtype=float32)},\n",
       " {'predictions': array([-0.00020201], dtype=float32)},\n",
       " {'predictions': array([ 0.01679289], dtype=float32)},\n",
       " {'predictions': array([-0.00326195], dtype=float32)},\n",
       " {'predictions': array([ 0.11853887], dtype=float32)},\n",
       " {'predictions': array([ 0.00643881], dtype=float32)},\n",
       " {'predictions': array([ 0.02134388], dtype=float32)},\n",
       " {'predictions': array([ 0.05859429], dtype=float32)},\n",
       " {'predictions': array([-0.00456655], dtype=float32)},\n",
       " {'predictions': array([-0.00705209], dtype=float32)},\n",
       " {'predictions': array([ 0.00251612], dtype=float32)},\n",
       " {'predictions': array([-0.00351304], dtype=float32)},\n",
       " {'predictions': array([-0.00343275], dtype=float32)},\n",
       " {'predictions': array([-0.00250635], dtype=float32)},\n",
       " {'predictions': array([-0.00138684], dtype=float32)},\n",
       " {'predictions': array([ 0.15514624], dtype=float32)},\n",
       " {'predictions': array([-0.00566693], dtype=float32)},\n",
       " {'predictions': array([-0.00965861], dtype=float32)},\n",
       " {'predictions': array([ 0.0011637], dtype=float32)},\n",
       " {'predictions': array([ 0.0032678], dtype=float32)},\n",
       " {'predictions': array([ 0.02058055], dtype=float32)},\n",
       " {'predictions': array([ 0.01733845], dtype=float32)},\n",
       " {'predictions': array([ 0.04972563], dtype=float32)},\n",
       " {'predictions': array([-0.00272006], dtype=float32)},\n",
       " {'predictions': array([ -7.15330243e-05], dtype=float32)},\n",
       " {'predictions': array([ 0.04153259], dtype=float32)},\n",
       " {'predictions': array([ 0.23029232], dtype=float32)},\n",
       " {'predictions': array([ 0.00153206], dtype=float32)},\n",
       " {'predictions': array([ 0.02286819], dtype=float32)},\n",
       " {'predictions': array([-0.00220943], dtype=float32)},\n",
       " {'predictions': array([ -7.67707825e-05], dtype=float32)},\n",
       " {'predictions': array([-0.00388293], dtype=float32)},\n",
       " {'predictions': array([ 0.00030778], dtype=float32)},\n",
       " {'predictions': array([-0.00761412], dtype=float32)},\n",
       " {'predictions': array([-0.00017457], dtype=float32)},\n",
       " {'predictions': array([ 0.00060033], dtype=float32)},\n",
       " {'predictions': array([-0.002694], dtype=float32)},\n",
       " {'predictions': array([-0.00591979], dtype=float32)},\n",
       " {'predictions': array([ 0.01497859], dtype=float32)},\n",
       " {'predictions': array([-0.00359453], dtype=float32)},\n",
       " {'predictions': array([ 0.00701047], dtype=float32)},\n",
       " {'predictions': array([ 0.02658828], dtype=float32)},\n",
       " {'predictions': array([ 0.01011251], dtype=float32)},\n",
       " {'predictions': array([ 0.00267376], dtype=float32)},\n",
       " {'predictions': array([ 0.00052359], dtype=float32)},\n",
       " {'predictions': array([-0.00794379], dtype=float32)},\n",
       " {'predictions': array([ 0.01985724], dtype=float32)},\n",
       " {'predictions': array([ 0.04057028], dtype=float32)},\n",
       " {'predictions': array([-0.00468563], dtype=float32)},\n",
       " {'predictions': array([ 0.01251391], dtype=float32)},\n",
       " {'predictions': array([ 0.09581106], dtype=float32)},\n",
       " {'predictions': array([ 0.00292971], dtype=float32)},\n",
       " {'predictions': array([-0.00532056], dtype=float32)},\n",
       " {'predictions': array([ 0.00357386], dtype=float32)},\n",
       " {'predictions': array([ 0.00401282], dtype=float32)},\n",
       " {'predictions': array([ 0.22863418], dtype=float32)},\n",
       " {'predictions': array([ 0.00188407], dtype=float32)},\n",
       " {'predictions': array([-0.00802712], dtype=float32)},\n",
       " {'predictions': array([ 0.07944627], dtype=float32)},\n",
       " {'predictions': array([-0.00220826], dtype=float32)},\n",
       " {'predictions': array([-0.00719887], dtype=float32)},\n",
       " {'predictions': array([-0.00334338], dtype=float32)},\n",
       " {'predictions': array([ 0.00013951], dtype=float32)},\n",
       " {'predictions': array([-0.0001043], dtype=float32)},\n",
       " {'predictions': array([ 0.00835603], dtype=float32)},\n",
       " {'predictions': array([ 0.08909671], dtype=float32)},\n",
       " {'predictions': array([ 0.0020105], dtype=float32)},\n",
       " {'predictions': array([-0.00350656], dtype=float32)},\n",
       " {'predictions': array([ 0.05208454], dtype=float32)},\n",
       " {'predictions': array([ 0.0014131], dtype=float32)},\n",
       " {'predictions': array([-0.00190704], dtype=float32)},\n",
       " {'predictions': array([-0.00533023], dtype=float32)},\n",
       " {'predictions': array([ 0.01430072], dtype=float32)},\n",
       " {'predictions': array([ 0.00115052], dtype=float32)},\n",
       " {'predictions': array([ 0.0029498], dtype=float32)},\n",
       " {'predictions': array([-0.00201748], dtype=float32)},\n",
       " {'predictions': array([-0.00732827], dtype=float32)},\n",
       " {'predictions': array([ 0.00024373], dtype=float32)},\n",
       " {'predictions': array([ 0.00159802], dtype=float32)},\n",
       " {'predictions': array([ 0.00017772], dtype=float32)},\n",
       " {'predictions': array([-0.0013753], dtype=float32)},\n",
       " {'predictions': array([-0.00793783], dtype=float32)},\n",
       " {'predictions': array([ 0.18795085], dtype=float32)},\n",
       " {'predictions': array([ 0.0039554], dtype=float32)},\n",
       " {'predictions': array([ 0.01544083], dtype=float32)},\n",
       " {'predictions': array([ 0.00084497], dtype=float32)},\n",
       " {'predictions': array([ 0.02700415], dtype=float32)},\n",
       " {'predictions': array([ 0.19431052], dtype=float32)},\n",
       " {'predictions': array([ 0.00663685], dtype=float32)},\n",
       " {'predictions': array([-0.00217351], dtype=float32)},\n",
       " {'predictions': array([-0.00014713], dtype=float32)},\n",
       " {'predictions': array([-0.00183458], dtype=float32)},\n",
       " {'predictions': array([-0.00835873], dtype=float32)},\n",
       " {'predictions': array([ 0.00054979], dtype=float32)},\n",
       " {'predictions': array([ 0.02165366], dtype=float32)},\n",
       " {'predictions': array([ 0.01032544], dtype=float32)},\n",
       " {'predictions': array([ 0.08602296], dtype=float32)},\n",
       " {'predictions': array([-0.00293301], dtype=float32)},\n",
       " {'predictions': array([-0.00132605], dtype=float32)},\n",
       " {'predictions': array([ 0.01888362], dtype=float32)},\n",
       " {'predictions': array([-0.00117298], dtype=float32)},\n",
       " {'predictions': array([-0.00695107], dtype=float32)},\n",
       " {'predictions': array([ 0.00050033], dtype=float32)},\n",
       " {'predictions': array([-0.00124765], dtype=float32)},\n",
       " {'predictions': array([ 0.00023732], dtype=float32)},\n",
       " {'predictions': array([-0.00264225], dtype=float32)},\n",
       " {'predictions': array([ 0.00339636], dtype=float32)},\n",
       " {'predictions': array([ 0.00047525], dtype=float32)},\n",
       " {'predictions': array([-0.00015869], dtype=float32)},\n",
       " {'predictions': array([ 0.04082803], dtype=float32)},\n",
       " {'predictions': array([-0.00255208], dtype=float32)},\n",
       " {'predictions': array([-0.00398418], dtype=float32)},\n",
       " {'predictions': array([-0.00151189], dtype=float32)},\n",
       " {'predictions': array([-0.00025239], dtype=float32)},\n",
       " {'predictions': array([-0.00181358], dtype=float32)},\n",
       " {'predictions': array([ 0.21376884], dtype=float32)},\n",
       " {'predictions': array([ 0.01336371], dtype=float32)},\n",
       " {'predictions': array([-0.0013314], dtype=float32)},\n",
       " {'predictions': array([ 0.0370294], dtype=float32)},\n",
       " {'predictions': array([-0.00252014], dtype=float32)},\n",
       " {'predictions': array([ 0.03021208], dtype=float32)},\n",
       " {'predictions': array([-0.00209941], dtype=float32)},\n",
       " {'predictions': array([ -3.61725688e-05], dtype=float32)},\n",
       " {'predictions': array([-0.00761835], dtype=float32)},\n",
       " {'predictions': array([-0.00327603], dtype=float32)},\n",
       " {'predictions': array([ 0.00799977], dtype=float32)},\n",
       " {'predictions': array([-0.00155441], dtype=float32)},\n",
       " {'predictions': array([ 0.00289863], dtype=float32)},\n",
       " {'predictions': array([ 0.00050797], dtype=float32)},\n",
       " {'predictions': array([ 0.04299454], dtype=float32)},\n",
       " {'predictions': array([ 0.00838995], dtype=float32)},\n",
       " {'predictions': array([-0.00187651], dtype=float32)},\n",
       " {'predictions': array([ 0.00417902], dtype=float32)},\n",
       " {'predictions': array([ 0.0015498], dtype=float32)},\n",
       " {'predictions': array([-0.00187908], dtype=float32)},\n",
       " {'predictions': array([ 0.00190961], dtype=float32)},\n",
       " {'predictions': array([ 0.01819828], dtype=float32)},\n",
       " {'predictions': array([ 0.00288557], dtype=float32)},\n",
       " {'predictions': array([ 0.0017458], dtype=float32)},\n",
       " {'predictions': array([ 0.00555813], dtype=float32)},\n",
       " {'predictions': array([ 0.00182357], dtype=float32)},\n",
       " {'predictions': array([ 0.0039463], dtype=float32)},\n",
       " {'predictions': array([ 0.00428052], dtype=float32)},\n",
       " {'predictions': array([ 0.00038707], dtype=float32)},\n",
       " {'predictions': array([-0.00047745], dtype=float32)},\n",
       " {'predictions': array([-0.00316031], dtype=float32)},\n",
       " {'predictions': array([ 0.0182851], dtype=float32)},\n",
       " {'predictions': array([ 0.29848373], dtype=float32)},\n",
       " {'predictions': array([ 0.00254909], dtype=float32)},\n",
       " {'predictions': array([ 0.02642121], dtype=float32)},\n",
       " {'predictions': array([ 0.13885218], dtype=float32)},\n",
       " {'predictions': array([-0.00935625], dtype=float32)},\n",
       " {'predictions': array([ 0.03018103], dtype=float32)},\n",
       " {'predictions': array([-0.00364341], dtype=float32)},\n",
       " {'predictions': array([-0.0019941], dtype=float32)},\n",
       " {'predictions': array([-0.00553708], dtype=float32)},\n",
       " {'predictions': array([ 0.00258791], dtype=float32)},\n",
       " {'predictions': array([ 0.04320019], dtype=float32)},\n",
       " {'predictions': array([ 0.00152991], dtype=float32)},\n",
       " {'predictions': array([ 0.03720702], dtype=float32)},\n",
       " {'predictions': array([ 0.00536204], dtype=float32)},\n",
       " {'predictions': array([-0.00075906], dtype=float32)},\n",
       " {'predictions': array([ 0.04767657], dtype=float32)},\n",
       " {'predictions': array([-0.00999695], dtype=float32)},\n",
       " {'predictions': array([-0.00063494], dtype=float32)},\n",
       " {'predictions': array([-0.0055261], dtype=float32)},\n",
       " {'predictions': array([ 0.04870048], dtype=float32)},\n",
       " {'predictions': array([ 0.00907952], dtype=float32)},\n",
       " {'predictions': array([ 0.00010495], dtype=float32)},\n",
       " {'predictions': array([ 0.00212141], dtype=float32)},\n",
       " {'predictions': array([ 0.1425205], dtype=float32)},\n",
       " {'predictions': array([-0.004581], dtype=float32)},\n",
       " {'predictions': array([ 0.00349367], dtype=float32)},\n",
       " {'predictions': array([ 0.00248227], dtype=float32)},\n",
       " {'predictions': array([ 0.05911799], dtype=float32)},\n",
       " {'predictions': array([-0.00237468], dtype=float32)},\n",
       " {'predictions': array([-0.00197361], dtype=float32)},\n",
       " {'predictions': array([ 0.04549026], dtype=float32)},\n",
       " {'predictions': array([-0.00851481], dtype=float32)},\n",
       " {'predictions': array([-0.00103129], dtype=float32)},\n",
       " {'predictions': array([ 0.02821939], dtype=float32)},\n",
       " {'predictions': array([ 0.0175963], dtype=float32)},\n",
       " {'predictions': array([-0.00116082], dtype=float32)},\n",
       " {'predictions': array([-0.00600695], dtype=float32)},\n",
       " {'predictions': array([ 0.00072246], dtype=float32)},\n",
       " {'predictions': array([-0.00075921], dtype=float32)},\n",
       " {'predictions': array([ 0.00975703], dtype=float32)},\n",
       " {'predictions': array([-0.00112724], dtype=float32)},\n",
       " {'predictions': array([-0.00245982], dtype=float32)},\n",
       " {'predictions': array([-0.00680701], dtype=float32)},\n",
       " {'predictions': array([-0.00406604], dtype=float32)},\n",
       " {'predictions': array([ 0.31840235], dtype=float32)},\n",
       " {'predictions': array([ 0.07736935], dtype=float32)},\n",
       " {'predictions': array([-0.00029125], dtype=float32)},\n",
       " {'predictions': array([-0.00108311], dtype=float32)},\n",
       " {'predictions': array([ 0.02212166], dtype=float32)},\n",
       " {'predictions': array([ 0.0050393], dtype=float32)},\n",
       " {'predictions': array([ 0.03072059], dtype=float32)},\n",
       " {'predictions': array([-0.00072781], dtype=float32)},\n",
       " {'predictions': array([-0.00096197], dtype=float32)},\n",
       " {'predictions': array([ 0.17424273], dtype=float32)},\n",
       " {'predictions': array([ 0.01593705], dtype=float32)},\n",
       " {'predictions': array([-0.00077101], dtype=float32)},\n",
       " {'predictions': array([-0.00288189], dtype=float32)},\n",
       " {'predictions': array([-0.00564805], dtype=float32)},\n",
       " {'predictions': array([ 0.03683697], dtype=float32)},\n",
       " {'predictions': array([-0.00121655], dtype=float32)},\n",
       " {'predictions': array([ 0.00052301], dtype=float32)},\n",
       " {'predictions': array([ 0.00133089], dtype=float32)},\n",
       " {'predictions': array([-0.00087377], dtype=float32)},\n",
       " {'predictions': array([ 0.0469984], dtype=float32)},\n",
       " {'predictions': array([ 0.01642835], dtype=float32)},\n",
       " {'predictions': array([-0.00281729], dtype=float32)},\n",
       " {'predictions': array([-0.0081648], dtype=float32)},\n",
       " {'predictions': array([-0.00136881], dtype=float32)},\n",
       " {'predictions': array([-0.0032279], dtype=float32)},\n",
       " {'predictions': array([ 0.00530977], dtype=float32)},\n",
       " {'predictions': array([ 0.00221346], dtype=float32)},\n",
       " {'predictions': array([-0.00288775], dtype=float32)},\n",
       " {'predictions': array([ 0.02524359], dtype=float32)},\n",
       " {'predictions': array([ 0.13859579], dtype=float32)},\n",
       " {'predictions': array([ 0.00255978], dtype=float32)},\n",
       " {'predictions': array([ 0.10904679], dtype=float32)},\n",
       " {'predictions': array([ 0.0064563], dtype=float32)},\n",
       " {'predictions': array([ 0.06664277], dtype=float32)},\n",
       " {'predictions': array([-0.00167955], dtype=float32)},\n",
       " {'predictions': array([ 0.00403091], dtype=float32)},\n",
       " {'predictions': array([ -7.36936927e-05], dtype=float32)},\n",
       " {'predictions': array([ 0.02082625], dtype=float32)}]"
      ]
     },
     "execution_count": 122,
     "metadata": {},
     "output_type": "execute_result"
    }
   ],
   "source": [
    "predictions"
   ]
  },
  {
   "cell_type": "code",
   "execution_count": 123,
   "metadata": {
    "collapsed": true
   },
   "outputs": [],
   "source": [
    "p = [p['predictions'][0] for p in predictions]"
   ]
  },
  {
   "cell_type": "code",
   "execution_count": 124,
   "metadata": {},
   "outputs": [
    {
     "name": "stdout",
     "output_type": "stream",
     "text": [
      "2.41476795046\n"
     ]
    }
   ],
   "source": [
    "mse = metrics.mean_squared_error(y_test,p)\n",
    "mae = metrics.mean_absolute_error(y_test,p)\n",
    "msle = metrics.mean_squared_log_error(y_test,p)\n",
    "med_e=metrics.median_absolute_error(y_test,p)\n",
    "print(mae*100)"
   ]
  },
  {
   "cell_type": "code",
   "execution_count": null,
   "metadata": {
    "collapsed": true
   },
   "outputs": [],
   "source": []
  },
  {
   "cell_type": "code",
   "execution_count": 125,
   "metadata": {
    "collapsed": true
   },
   "outputs": [],
   "source": [
    "p = np.asarray(p)"
   ]
  },
  {
   "cell_type": "code",
   "execution_count": 126,
   "metadata": {
    "collapsed": true
   },
   "outputs": [],
   "source": [
    "y_test=np.asarray(y_test)"
   ]
  },
  {
   "cell_type": "code",
   "execution_count": 127,
   "metadata": {},
   "outputs": [
    {
     "data": {
      "text/plain": [
       "array([ 0.04562738,  0.        ,  0.        ,  0.        ,  0.        ,\n",
       "        0.19500272,  0.26072787,  0.        ,  0.        ,  0.        ,\n",
       "        0.        ,  0.        ,  0.        ,  0.        ,  0.11787072,\n",
       "        0.        ,  0.        ,  0.22542097,  0.06952743,  0.        ])"
      ]
     },
     "execution_count": 127,
     "metadata": {},
     "output_type": "execute_result"
    }
   ],
   "source": [
    "y_test[0:20]"
   ]
  },
  {
   "cell_type": "code",
   "execution_count": 128,
   "metadata": {},
   "outputs": [
    {
     "data": {
      "text/plain": [
       "array([  3.41325402e-02,  -1.21401250e-03,  -1.43721700e-05,\n",
       "         2.38715857e-03,   4.09483910e-05,   3.91425312e-01,\n",
       "         6.87593222e-02,  -4.97016311e-03,  -1.91812962e-03,\n",
       "         6.92844391e-03,  -5.48675656e-04,  -1.99756026e-03,\n",
       "         4.49916720e-03,  -2.27151811e-03,   1.03057027e-01,\n",
       "         9.33221728e-03,  -4.48852777e-04,   1.86771676e-01,\n",
       "         3.83107886e-02,  -1.61523372e-03], dtype=float32)"
      ]
     },
     "execution_count": 128,
     "metadata": {},
     "output_type": "execute_result"
    }
   ],
   "source": [
    "p[0:20]"
   ]
  },
  {
   "cell_type": "code",
   "execution_count": 129,
   "metadata": {},
   "outputs": [
    {
     "name": "stdout",
     "output_type": "stream",
     "text": [
      "658\n",
      "0.8820375335120644\n"
     ]
    }
   ],
   "source": [
    "count=0\n",
    "sum=0\n",
    "for i in range(0,746):\n",
    "    if(y_test[i]-p[i]<0.05 and y_test[i]-p[i]>-0.05):\n",
    "        count=count+1\n",
    "print(count)\n",
    "print(count/746)"
   ]
  },
  {
   "cell_type": "markdown",
   "metadata": {},
   "source": [
    "## PERFORMANCE & RESULT"
   ]
  },
  {
   "cell_type": "code",
   "execution_count": 145,
   "metadata": {},
   "outputs": [
    {
     "name": "stdout",
     "output_type": "stream",
     "text": [
      "r sqaured =  37.1525206722\n",
      "mse =  0.37402428264\n",
      "meanae =  2.41476795046\n",
      "meadianae =  0.470951190628\n"
     ]
    }
   ],
   "source": [
    "count=0\n",
    "error=0\n",
    "for i in range(0,746):\n",
    "   error=error + ((y_test[i]-p[i])**2)\n",
    "mse = error/746\n",
    "rmse = mse**(1/2)\n",
    "\n",
    "\n",
    "from sklearn.metrics import r2_score\n",
    "from sklearn.metrics import mean_absolute_error\n",
    "from sklearn.metrics import median_absolute_error\n",
    "from sklearn.metrics import mean_squared_error\n",
    "from sklearn.metrics import mean_squared_log_error\n",
    "print(\"r sqaured = \",r2_score(y_test, p)*100)\n",
    "print(\"mse = \",mean_squared_error(y_test,p)*100)\n",
    "print(\"meanae = \",mean_absolute_error(y_test,p)*100)\n",
    "print(\"meadianae = \",median_absolute_error(y_test,p)*100)\n"
   ]
  },
  {
   "cell_type": "code",
   "execution_count": 131,
   "metadata": {},
   "outputs": [
    {
     "data": {
      "text/plain": [
       "746"
      ]
     },
     "execution_count": 131,
     "metadata": {},
     "output_type": "execute_result"
    }
   ],
   "source": [
    "y_test.size"
   ]
  },
  {
   "cell_type": "code",
   "execution_count": 132,
   "metadata": {
    "collapsed": true
   },
   "outputs": [],
   "source": [
    "X=x_test['MinPressure']"
   ]
  },
  {
   "cell_type": "code",
   "execution_count": 133,
   "metadata": {},
   "outputs": [
    {
     "data": {
      "text/plain": [
       "<matplotlib.text.Text at 0x1e3b61e32b0>"
      ]
     },
     "execution_count": 133,
     "metadata": {},
     "output_type": "execute_result"
    },
    {
     "data": {
      "image/png": "[encoded data removed]",
      "text/plain": [
       "<matplotlib.figure.Figure at 0x1e3b62b8438>"
      ]
     },
     "metadata": {},
     "output_type": "display_data"
    }
   ],
   "source": [
    "plt.plot(x_test,p,'*')\n",
    "plt.xlabel(\"X_TEST\")\n",
    "plt.ylabel(\"PREDICTION\")\n",
    "plt.title(\"PREDICTED GRAPH ON TEST DATA\")"
   ]
  },
  {
   "cell_type": "code",
   "execution_count": 134,
   "metadata": {},
   "outputs": [
    {
     "data": {
      "text/plain": [
       "<matplotlib.text.Text at 0x1e3b4b3e2b0>"
      ]
     },
     "execution_count": 134,
     "metadata": {},
     "output_type": "execute_result"
    },
    {
     "data": {
      "image/png": "[encoded data removed]",
      "text/plain": [
       "<matplotlib.figure.Figure at 0x1e3b5f0d400>"
      ]
     },
     "metadata": {},
     "output_type": "display_data"
    }
   ],
   "source": [
    "plt.plot(x_test,y_test,'*')\n",
    "plt.xlabel(\"X_TEST\")\n",
    "plt.ylabel(\"Y_TEST\")\n",
    "plt.title(\"ORIGINAL TEST DATASET\")"
   ]
  },
  {
   "cell_type": "code",
   "execution_count": 135,
   "metadata": {},
   "outputs": [
    {
     "data": {
      "text/plain": [
       "<matplotlib.text.Text at 0x1e3b61aaa90>"
      ]
     },
     "execution_count": 135,
     "metadata": {},
     "output_type": "execute_result"
    },
    {
     "data": {
      "image/png": "[encoded data removed]",
      "text/plain": [
       "<matplotlib.figure.Figure at 0x1e3b498b828>"
      ]
     },
     "metadata": {},
     "output_type": "display_data"
    }
   ],
   "source": [
    "plt.plot(y_test,p,'^')\n",
    "plt.xlabel(\"Y_TEST\")\n",
    "plt.ylabel(\"PREDICTIONS\")\n",
    "plt.title(\"ORIGINAL OUTPUTS VS PREDICTED OUTPUTS\")"
   ]
  },
  {
   "cell_type": "markdown",
   "metadata": {
    "collapsed": true
   },
   "source": [
    "## 10 Max and 10 Min values"
   ]
  },
  {
   "cell_type": "code",
   "execution_count": 136,
   "metadata": {},
   "outputs": [
    {
     "data": {
      "text/plain": [
       "0.62466051059206951"
      ]
     },
     "execution_count": 136,
     "metadata": {},
     "output_type": "execute_result"
    }
   ],
   "source": [
    "y_test.max()"
   ]
  },
  {
   "cell_type": "code",
   "execution_count": 137,
   "metadata": {},
   "outputs": [
    {
     "data": {
      "text/plain": [
       "0.39142531"
      ]
     },
     "execution_count": 137,
     "metadata": {},
     "output_type": "execute_result"
    }
   ],
   "source": [
    "p.max()"
   ]
  },
  {
   "cell_type": "code",
   "execution_count": 138,
   "metadata": {},
   "outputs": [
    {
     "data": {
      "text/plain": [
       "0.0"
      ]
     },
     "execution_count": 138,
     "metadata": {},
     "output_type": "execute_result"
    }
   ],
   "source": [
    "y_test.min()"
   ]
  },
  {
   "cell_type": "code",
   "execution_count": 139,
   "metadata": {},
   "outputs": [
    {
     "data": {
      "text/plain": [
       "-0.010284618"
      ]
     },
     "execution_count": 139,
     "metadata": {},
     "output_type": "execute_result"
    }
   ],
   "source": [
    "p.min()"
   ]
  },
  {
   "cell_type": "code",
   "execution_count": 140,
   "metadata": {},
   "outputs": [
    {
     "data": {
      "text/plain": [
       "0.030102971779237594"
      ]
     },
     "execution_count": 140,
     "metadata": {},
     "output_type": "execute_result"
    }
   ],
   "source": [
    "y_test.mean()"
   ]
  },
  {
   "cell_type": "code",
   "execution_count": 141,
   "metadata": {},
   "outputs": [
    {
     "data": {
      "text/plain": [
       "0.02258978"
      ]
     },
     "execution_count": 141,
     "metadata": {},
     "output_type": "execute_result"
    }
   ],
   "source": [
    "p.mean()"
   ]
  },
  {
   "cell_type": "code",
   "execution_count": 142,
   "metadata": {},
   "outputs": [
    {
     "data": {
      "text/plain": [
       "0.077144677429316563"
      ]
     },
     "execution_count": 142,
     "metadata": {},
     "output_type": "execute_result"
    }
   ],
   "source": [
    "y_test.std()"
   ]
  },
  {
   "cell_type": "code",
   "execution_count": 143,
   "metadata": {},
   "outputs": [
    {
     "data": {
      "text/plain": [
       "0.055612743"
      ]
     },
     "execution_count": 143,
     "metadata": {},
     "output_type": "execute_result"
    }
   ],
   "source": [
    "p.std()"
   ]
  },
  {
   "cell_type": "code",
   "execution_count": null,
   "metadata": {},
   "outputs": [],
   "source": []
  }
 ],
 "metadata": {
  "kernelspec": {
   "display_name": "Python 3",
   "language": "python",
   "name": "python3"
  },
  "language_info": {
   "codemirror_mode": {
    "name": "ipython",
    "version": 3
   },
   "file_extension": ".py",
   "mimetype": "text/x-python",
   "name": "python",
   "nbconvert_exporter": "python",
   "pygments_lexer": "ipython3",
   "version": "3.5.4"
  }
 },
 "nbformat": 4,
 "nbformat_minor": 2
}
