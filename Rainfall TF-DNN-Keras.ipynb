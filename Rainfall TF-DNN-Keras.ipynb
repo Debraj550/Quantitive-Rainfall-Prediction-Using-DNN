{
 "cells": [
  {
   "cell_type": "code",
   "execution_count": 58,
   "metadata": {
    "collapsed": true
   },
   "outputs": [],
   "source": [
    "#BASIC LIBRARIES TO BE NEEDED\n",
    "import tensorflow as tf\n",
    "import numpy as np\n",
    "import pandas as pd\n",
    "import matplotlib.pyplot as plt\n",
    "%matplotlib inline"
   ]
  },
  {
   "cell_type": "code",
   "execution_count": 59,
   "metadata": {
    "collapsed": true
   },
   "outputs": [],
   "source": [
    "tf.set_random_seed(101)"
   ]
  },
  {
   "cell_type": "markdown",
   "metadata": {},
   "source": [
    "### READ DATASET RAIN"
   ]
  },
  {
   "cell_type": "code",
   "execution_count": 60,
   "metadata": {
    "collapsed": true
   },
   "outputs": [],
   "source": [
    "dataset = pd.read_csv('dataset_rain.csv')"
   ]
  },
  {
   "cell_type": "code",
   "execution_count": 61,
   "metadata": {},
   "outputs": [
    {
     "data": {
      "text/plain": [
       "Index(['Day', 'Month', 'Year', 'MinPressure', 'MaxPressure', 'MinVapour',\n",
       "       'MaxVapour', 'MinRelativeHumidity', 'MaxRelativeHumidity',\n",
       "       'MinTemperature', 'MaxTemperature', 'Rain', 'MinRadiation',\n",
       "       'MaxRadiation'],\n",
       "      dtype='object')"
      ]
     },
     "execution_count": 61,
     "metadata": {},
     "output_type": "execute_result"
    }
   ],
   "source": [
    "dataset.columns"
   ]
  },
  {
   "cell_type": "code",
   "execution_count": 62,
   "metadata": {},
   "outputs": [
    {
     "data": {
      "text/html": [
       "<div>\n",
       "<style>\n",
       "    .dataframe thead tr:only-child th {\n",
       "        text-align: right;\n",
       "    }\n",
       "\n",
       "    .dataframe thead th {\n",
       "        text-align: left;\n",
       "    }\n",
       "\n",
       "    .dataframe tbody tr th {\n",
       "        vertical-align: top;\n",
       "    }\n",
       "</style>\n",
       "<table border=\"1\" class=\"dataframe\">\n",
       "  <thead>\n",
       "    <tr style=\"text-align: right;\">\n",
       "      <th></th>\n",
       "      <th>Day</th>\n",
       "      <th>Month</th>\n",
       "      <th>Year</th>\n",
       "      <th>MinPressure</th>\n",
       "      <th>MaxPressure</th>\n",
       "      <th>MinVapour</th>\n",
       "      <th>MaxVapour</th>\n",
       "      <th>MinRelativeHumidity</th>\n",
       "      <th>MaxRelativeHumidity</th>\n",
       "      <th>MinTemperature</th>\n",
       "      <th>MaxTemperature</th>\n",
       "      <th>Rain</th>\n",
       "      <th>MinRadiation</th>\n",
       "      <th>MaxRadiation</th>\n",
       "    </tr>\n",
       "  </thead>\n",
       "  <tbody>\n",
       "    <tr>\n",
       "      <th>Day</th>\n",
       "      <td>1.000000</td>\n",
       "      <td>0.011337</td>\n",
       "      <td>0.005534</td>\n",
       "      <td>-0.026737</td>\n",
       "      <td>-0.023597</td>\n",
       "      <td>0.012438</td>\n",
       "      <td>-0.009908</td>\n",
       "      <td>0.020194</td>\n",
       "      <td>0.001810</td>\n",
       "      <td>-0.007138</td>\n",
       "      <td>-0.007970</td>\n",
       "      <td>-0.025246</td>\n",
       "      <td>0.031925</td>\n",
       "      <td>-0.012527</td>\n",
       "    </tr>\n",
       "    <tr>\n",
       "      <th>Month</th>\n",
       "      <td>0.011337</td>\n",
       "      <td>1.000000</td>\n",
       "      <td>-0.007650</td>\n",
       "      <td>-0.015876</td>\n",
       "      <td>-0.042033</td>\n",
       "      <td>0.270620</td>\n",
       "      <td>0.195072</td>\n",
       "      <td>0.415881</td>\n",
       "      <td>0.190686</td>\n",
       "      <td>-0.025137</td>\n",
       "      <td>0.156416</td>\n",
       "      <td>0.081969</td>\n",
       "      <td>-0.182563</td>\n",
       "      <td>0.042846</td>\n",
       "    </tr>\n",
       "    <tr>\n",
       "      <th>Year</th>\n",
       "      <td>0.005534</td>\n",
       "      <td>-0.007650</td>\n",
       "      <td>1.000000</td>\n",
       "      <td>-0.003431</td>\n",
       "      <td>-0.010428</td>\n",
       "      <td>0.089055</td>\n",
       "      <td>0.083138</td>\n",
       "      <td>0.094404</td>\n",
       "      <td>0.058577</td>\n",
       "      <td>0.052545</td>\n",
       "      <td>0.031824</td>\n",
       "      <td>0.000759</td>\n",
       "      <td>-0.039054</td>\n",
       "      <td>-0.022513</td>\n",
       "    </tr>\n",
       "    <tr>\n",
       "      <th>MinPressure</th>\n",
       "      <td>-0.026737</td>\n",
       "      <td>-0.015876</td>\n",
       "      <td>-0.003431</td>\n",
       "      <td>1.000000</td>\n",
       "      <td>0.981270</td>\n",
       "      <td>-0.808819</td>\n",
       "      <td>-0.825122</td>\n",
       "      <td>-0.476431</td>\n",
       "      <td>-0.361314</td>\n",
       "      <td>-0.614129</td>\n",
       "      <td>-0.825390</td>\n",
       "      <td>-0.294619</td>\n",
       "      <td>-0.251876</td>\n",
       "      <td>-0.588964</td>\n",
       "    </tr>\n",
       "    <tr>\n",
       "      <th>MaxPressure</th>\n",
       "      <td>-0.023597</td>\n",
       "      <td>-0.042033</td>\n",
       "      <td>-0.010428</td>\n",
       "      <td>0.981270</td>\n",
       "      <td>1.000000</td>\n",
       "      <td>-0.812156</td>\n",
       "      <td>-0.828078</td>\n",
       "      <td>-0.518096</td>\n",
       "      <td>-0.396837</td>\n",
       "      <td>-0.573611</td>\n",
       "      <td>-0.817011</td>\n",
       "      <td>-0.317833</td>\n",
       "      <td>-0.205878</td>\n",
       "      <td>-0.595545</td>\n",
       "    </tr>\n",
       "    <tr>\n",
       "      <th>MinVapour</th>\n",
       "      <td>0.012438</td>\n",
       "      <td>0.270620</td>\n",
       "      <td>0.089055</td>\n",
       "      <td>-0.808819</td>\n",
       "      <td>-0.812156</td>\n",
       "      <td>1.000000</td>\n",
       "      <td>0.900799</td>\n",
       "      <td>0.741861</td>\n",
       "      <td>0.492866</td>\n",
       "      <td>0.575405</td>\n",
       "      <td>0.859213</td>\n",
       "      <td>0.280680</td>\n",
       "      <td>0.164914</td>\n",
       "      <td>0.602115</td>\n",
       "    </tr>\n",
       "    <tr>\n",
       "      <th>MaxVapour</th>\n",
       "      <td>-0.009908</td>\n",
       "      <td>0.195072</td>\n",
       "      <td>0.083138</td>\n",
       "      <td>-0.825122</td>\n",
       "      <td>-0.828078</td>\n",
       "      <td>0.900799</td>\n",
       "      <td>1.000000</td>\n",
       "      <td>0.575771</td>\n",
       "      <td>0.551166</td>\n",
       "      <td>0.684524</td>\n",
       "      <td>0.920069</td>\n",
       "      <td>0.239333</td>\n",
       "      <td>0.233987</td>\n",
       "      <td>0.592770</td>\n",
       "    </tr>\n",
       "    <tr>\n",
       "      <th>MinRelativeHumidity</th>\n",
       "      <td>0.020194</td>\n",
       "      <td>0.415881</td>\n",
       "      <td>0.094404</td>\n",
       "      <td>-0.476431</td>\n",
       "      <td>-0.518096</td>\n",
       "      <td>0.741861</td>\n",
       "      <td>0.575771</td>\n",
       "      <td>1.000000</td>\n",
       "      <td>0.637929</td>\n",
       "      <td>-0.004094</td>\n",
       "      <td>0.438386</td>\n",
       "      <td>0.378737</td>\n",
       "      <td>-0.244592</td>\n",
       "      <td>0.418813</td>\n",
       "    </tr>\n",
       "    <tr>\n",
       "      <th>MaxRelativeHumidity</th>\n",
       "      <td>0.001810</td>\n",
       "      <td>0.190686</td>\n",
       "      <td>0.058577</td>\n",
       "      <td>-0.361314</td>\n",
       "      <td>-0.396837</td>\n",
       "      <td>0.492866</td>\n",
       "      <td>0.551166</td>\n",
       "      <td>0.637929</td>\n",
       "      <td>1.000000</td>\n",
       "      <td>-0.030143</td>\n",
       "      <td>0.309932</td>\n",
       "      <td>0.353827</td>\n",
       "      <td>-0.316643</td>\n",
       "      <td>0.321599</td>\n",
       "    </tr>\n",
       "    <tr>\n",
       "      <th>MinTemperature</th>\n",
       "      <td>-0.007138</td>\n",
       "      <td>-0.025137</td>\n",
       "      <td>0.052545</td>\n",
       "      <td>-0.614129</td>\n",
       "      <td>-0.573611</td>\n",
       "      <td>0.575405</td>\n",
       "      <td>0.684524</td>\n",
       "      <td>-0.004094</td>\n",
       "      <td>-0.030143</td>\n",
       "      <td>1.000000</td>\n",
       "      <td>0.788499</td>\n",
       "      <td>0.000678</td>\n",
       "      <td>0.552022</td>\n",
       "      <td>0.359069</td>\n",
       "    </tr>\n",
       "    <tr>\n",
       "      <th>MaxTemperature</th>\n",
       "      <td>-0.007970</td>\n",
       "      <td>0.156416</td>\n",
       "      <td>0.031824</td>\n",
       "      <td>-0.825390</td>\n",
       "      <td>-0.817011</td>\n",
       "      <td>0.859213</td>\n",
       "      <td>0.920069</td>\n",
       "      <td>0.438386</td>\n",
       "      <td>0.309932</td>\n",
       "      <td>0.788499</td>\n",
       "      <td>1.000000</td>\n",
       "      <td>0.162273</td>\n",
       "      <td>0.325552</td>\n",
       "      <td>0.575525</td>\n",
       "    </tr>\n",
       "    <tr>\n",
       "      <th>Rain</th>\n",
       "      <td>-0.025246</td>\n",
       "      <td>0.081969</td>\n",
       "      <td>0.000759</td>\n",
       "      <td>-0.294619</td>\n",
       "      <td>-0.317833</td>\n",
       "      <td>0.280680</td>\n",
       "      <td>0.239333</td>\n",
       "      <td>0.378737</td>\n",
       "      <td>0.353827</td>\n",
       "      <td>0.000678</td>\n",
       "      <td>0.162273</td>\n",
       "      <td>1.000000</td>\n",
       "      <td>-0.197305</td>\n",
       "      <td>0.147586</td>\n",
       "    </tr>\n",
       "    <tr>\n",
       "      <th>MinRadiation</th>\n",
       "      <td>0.031925</td>\n",
       "      <td>-0.182563</td>\n",
       "      <td>-0.039054</td>\n",
       "      <td>-0.251876</td>\n",
       "      <td>-0.205878</td>\n",
       "      <td>0.164914</td>\n",
       "      <td>0.233987</td>\n",
       "      <td>-0.244592</td>\n",
       "      <td>-0.316643</td>\n",
       "      <td>0.552022</td>\n",
       "      <td>0.325552</td>\n",
       "      <td>-0.197305</td>\n",
       "      <td>1.000000</td>\n",
       "      <td>0.247646</td>\n",
       "    </tr>\n",
       "    <tr>\n",
       "      <th>MaxRadiation</th>\n",
       "      <td>-0.012527</td>\n",
       "      <td>0.042846</td>\n",
       "      <td>-0.022513</td>\n",
       "      <td>-0.588964</td>\n",
       "      <td>-0.595545</td>\n",
       "      <td>0.602115</td>\n",
       "      <td>0.592770</td>\n",
       "      <td>0.418813</td>\n",
       "      <td>0.321599</td>\n",
       "      <td>0.359069</td>\n",
       "      <td>0.575525</td>\n",
       "      <td>0.147586</td>\n",
       "      <td>0.247646</td>\n",
       "      <td>1.000000</td>\n",
       "    </tr>\n",
       "  </tbody>\n",
       "</table>\n",
       "</div>"
      ],
      "text/plain": [
       "                          Day     Month      Year  MinPressure  MaxPressure  \\\n",
       "Day                  1.000000  0.011337  0.005534    -0.026737    -0.023597   \n",
       "Month                0.011337  1.000000 -0.007650    -0.015876    -0.042033   \n",
       "Year                 0.005534 -0.007650  1.000000    -0.003431    -0.010428   \n",
       "MinPressure         -0.026737 -0.015876 -0.003431     1.000000     0.981270   \n",
       "MaxPressure         -0.023597 -0.042033 -0.010428     0.981270     1.000000   \n",
       "MinVapour            0.012438  0.270620  0.089055    -0.808819    -0.812156   \n",
       "MaxVapour           -0.009908  0.195072  0.083138    -0.825122    -0.828078   \n",
       "MinRelativeHumidity  0.020194  0.415881  0.094404    -0.476431    -0.518096   \n",
       "MaxRelativeHumidity  0.001810  0.190686  0.058577    -0.361314    -0.396837   \n",
       "MinTemperature      -0.007138 -0.025137  0.052545    -0.614129    -0.573611   \n",
       "MaxTemperature      -0.007970  0.156416  0.031824    -0.825390    -0.817011   \n",
       "Rain                -0.025246  0.081969  0.000759    -0.294619    -0.317833   \n",
       "MinRadiation         0.031925 -0.182563 -0.039054    -0.251876    -0.205878   \n",
       "MaxRadiation        -0.012527  0.042846 -0.022513    -0.588964    -0.595545   \n",
       "\n",
       "                     MinVapour  MaxVapour  MinRelativeHumidity  \\\n",
       "Day                   0.012438  -0.009908             0.020194   \n",
       "Month                 0.270620   0.195072             0.415881   \n",
       "Year                  0.089055   0.083138             0.094404   \n",
       "MinPressure          -0.808819  -0.825122            -0.476431   \n",
       "MaxPressure          -0.812156  -0.828078            -0.518096   \n",
       "MinVapour             1.000000   0.900799             0.741861   \n",
       "MaxVapour             0.900799   1.000000             0.575771   \n",
       "MinRelativeHumidity   0.741861   0.575771             1.000000   \n",
       "MaxRelativeHumidity   0.492866   0.551166             0.637929   \n",
       "MinTemperature        0.575405   0.684524            -0.004094   \n",
       "MaxTemperature        0.859213   0.920069             0.438386   \n",
       "Rain                  0.280680   0.239333             0.378737   \n",
       "MinRadiation          0.164914   0.233987            -0.244592   \n",
       "MaxRadiation          0.602115   0.592770             0.418813   \n",
       "\n",
       "                     MaxRelativeHumidity  MinTemperature  MaxTemperature  \\\n",
       "Day                             0.001810       -0.007138       -0.007970   \n",
       "Month                           0.190686       -0.025137        0.156416   \n",
       "Year                            0.058577        0.052545        0.031824   \n",
       "MinPressure                    -0.361314       -0.614129       -0.825390   \n",
       "MaxPressure                    -0.396837       -0.573611       -0.817011   \n",
       "MinVapour                       0.492866        0.575405        0.859213   \n",
       "MaxVapour                       0.551166        0.684524        0.920069   \n",
       "MinRelativeHumidity             0.637929       -0.004094        0.438386   \n",
       "MaxRelativeHumidity             1.000000       -0.030143        0.309932   \n",
       "MinTemperature                 -0.030143        1.000000        0.788499   \n",
       "MaxTemperature                  0.309932        0.788499        1.000000   \n",
       "Rain                            0.353827        0.000678        0.162273   \n",
       "MinRadiation                   -0.316643        0.552022        0.325552   \n",
       "MaxRadiation                    0.321599        0.359069        0.575525   \n",
       "\n",
       "                         Rain  MinRadiation  MaxRadiation  \n",
       "Day                 -0.025246      0.031925     -0.012527  \n",
       "Month                0.081969     -0.182563      0.042846  \n",
       "Year                 0.000759     -0.039054     -0.022513  \n",
       "MinPressure         -0.294619     -0.251876     -0.588964  \n",
       "MaxPressure         -0.317833     -0.205878     -0.595545  \n",
       "MinVapour            0.280680      0.164914      0.602115  \n",
       "MaxVapour            0.239333      0.233987      0.592770  \n",
       "MinRelativeHumidity  0.378737     -0.244592      0.418813  \n",
       "MaxRelativeHumidity  0.353827     -0.316643      0.321599  \n",
       "MinTemperature       0.000678      0.552022      0.359069  \n",
       "MaxTemperature       0.162273      0.325552      0.575525  \n",
       "Rain                 1.000000     -0.197305      0.147586  \n",
       "MinRadiation        -0.197305      1.000000      0.247646  \n",
       "MaxRadiation         0.147586      0.247646      1.000000  "
      ]
     },
     "execution_count": 62,
     "metadata": {},
     "output_type": "execute_result"
    }
   ],
   "source": [
    "dataset.corr()"
   ]
  },
  {
   "cell_type": "markdown",
   "metadata": {},
   "source": [
    "## Normalizingg"
   ]
  },
  {
   "cell_type": "code",
   "execution_count": 63,
   "metadata": {
    "collapsed": true
   },
   "outputs": [],
   "source": [
    "cols_to_norm =['Day','Month', 'Year', 'MinPressure', 'MaxPressure', 'MinVapour',\n",
    "     'MaxVapour', 'MinRelativeHumidity', 'MaxRelativeHumidity',\n",
    "   'MinTemperature', 'MaxTemperature','Rain']"
   ]
  },
  {
   "cell_type": "code",
   "execution_count": 64,
   "metadata": {
    "collapsed": true
   },
   "outputs": [],
   "source": [
    "from sklearn.preprocessing import MinMaxScaler"
   ]
  },
  {
   "cell_type": "code",
   "execution_count": 65,
   "metadata": {
    "collapsed": true
   },
   "outputs": [],
   "source": [
    "scaler = MinMaxScaler()"
   ]
  },
  {
   "cell_type": "code",
   "execution_count": 66,
   "metadata": {
    "collapsed": true
   },
   "outputs": [],
   "source": [
    "def normal(x):\n",
    "   return (x-x.min())/(x.max()-x.min())"
   ]
  },
  {
   "cell_type": "code",
   "execution_count": 67,
   "metadata": {
    "collapsed": true
   },
   "outputs": [],
   "source": [
    "dataset[cols_to_norm] = dataset[cols_to_norm].apply(lambda x: normal(x))"
   ]
  },
  {
   "cell_type": "code",
   "execution_count": 68,
   "metadata": {
    "collapsed": true
   },
   "outputs": [],
   "source": [
    "#dataset[2000:2100]"
   ]
  },
  {
   "cell_type": "markdown",
   "metadata": {},
   "source": [
    "## Feature columns distinguising"
   ]
  },
  {
   "cell_type": "code",
   "execution_count": 69,
   "metadata": {
    "collapsed": true
   },
   "outputs": [],
   "source": [
    "day = tf.feature_column.numeric_column('Day')\n",
    "month = tf.feature_column.numeric_column('Month')\n",
    "year = tf.feature_column.numeric_column('Year')\n",
    "minpressure = tf.feature_column.numeric_column('MinPressure')\n",
    "maxpressure = tf.feature_column.numeric_column('MaxPressure')\n",
    "minvapour = tf.feature_column.numeric_column('MinVapour')\n",
    "maxvapour = tf.feature_column.numeric_column('MaxVapour')\n",
    "minrh = tf.feature_column.numeric_column('MinRelativeHumidity')\n",
    "maxrh = tf.feature_column.numeric_column('MaxRelativeHumidity')\n",
    "mintemp = tf.feature_column.numeric_column('MinTemperature')\n",
    "maxtemp = tf.feature_column.numeric_column('MaxTemperature')"
   ]
  },
  {
   "cell_type": "code",
   "execution_count": 70,
   "metadata": {
    "collapsed": true
   },
   "outputs": [],
   "source": [
    "feat_col = [minpressure,maxpressure,minvapour,maxvapour,minrh,maxrh,maxtemp]"
   ]
  },
  {
   "cell_type": "markdown",
   "metadata": {},
   "source": [
    "### SPLIT"
   ]
  },
  {
   "cell_type": "code",
   "execution_count": 71,
   "metadata": {
    "collapsed": true
   },
   "outputs": [],
   "source": [
    "x_data = dataset.iloc[:, :-3]"
   ]
  },
  {
   "cell_type": "code",
   "execution_count": 72,
   "metadata": {
    "collapsed": true
   },
   "outputs": [],
   "source": [
    "y_data = dataset['Rain']"
   ]
  },
  {
   "cell_type": "code",
   "execution_count": 73,
   "metadata": {
    "collapsed": true
   },
   "outputs": [],
   "source": [
    "from sklearn.model_selection import train_test_split"
   ]
  },
  {
   "cell_type": "code",
   "execution_count": 74,
   "metadata": {
    "collapsed": true
   },
   "outputs": [],
   "source": [
    "x_train,x_test,y_train,y_test = train_test_split(x_data,y_data,test_size=0.3,random_state=101)"
   ]
  },
  {
   "cell_type": "code",
   "execution_count": 75,
   "metadata": {
    "collapsed": true
   },
   "outputs": [],
   "source": [
    "sess = tf.InteractiveSession()"
   ]
  },
  {
   "cell_type": "markdown",
   "metadata": {},
   "source": [
    "### MODEL TRAINING & EVALUATING"
   ]
  },
  {
   "cell_type": "code",
   "execution_count": 76,
   "metadata": {},
   "outputs": [],
   "source": [
    "from keras.models import Sequential\n",
    "from keras.layers import Dense\n",
    "from sklearn.metrics import confusion_matrix\n",
    "from sklearn import metrics\n",
    "from keras.wrappers.scikit_learn import KerasRegressor\n",
    "from sklearn.model_selection import cross_val_score\n",
    "from sklearn.model_selection import KFold\n",
    "from sklearn.preprocessing import StandardScaler\n",
    "from sklearn.pipeline import Pipeline"
   ]
  },
  {
   "cell_type": "code",
   "execution_count": 85,
   "metadata": {
    "collapsed": true
   },
   "outputs": [],
   "source": [
    "model = Sequential()\n",
    "model.add(Dense(1024, input_dim=11, kernel_initializer='normal', activation='relu'))\n",
    "\n",
    "model.add(Dense(1, kernel_initializer='normal'))\n",
    "model.compile(loss='mean_squared_error', optimizer='adam')\n"
   ]
  },
  {
   "cell_type": "code",
   "execution_count": 86,
   "metadata": {},
   "outputs": [
    {
     "name": "stderr",
     "output_type": "stream",
     "text": [
      "C:\\Users\\Debraj\\AppData\\Local\\conda\\conda\\envs\\tfdeeplearning\\lib\\site-packages\\keras\\models.py:939: UserWarning: The `nb_epoch` argument in `fit` has been renamed `epochs`.\n",
      "  warnings.warn('The `nb_epoch` argument in `fit` '\n"
     ]
    },
    {
     "name": "stdout",
     "output_type": "stream",
     "text": [
      "Epoch 1/100\n",
      "1738/1738 [==============================] - 1s 304us/step - loss: 0.0059\n",
      "Epoch 2/100\n",
      "1738/1738 [==============================] - 0s 98us/step - loss: 0.0044\n",
      "Epoch 3/100\n",
      "1738/1738 [==============================] - 0s 96us/step - loss: 0.0044\n",
      "Epoch 4/100\n",
      "1738/1738 [==============================] - 0s 95us/step - loss: 0.0047\n",
      "Epoch 5/100\n",
      "1738/1738 [==============================] - 0s 101us/step - loss: 0.0041\n",
      "Epoch 6/100\n",
      "1738/1738 [==============================] - 0s 97us/step - loss: 0.0042\n",
      "Epoch 7/100\n",
      "1738/1738 [==============================] - 0s 100us/step - loss: 0.0041\n",
      "Epoch 8/100\n",
      "1738/1738 [==============================] - 0s 98us/step - loss: 0.0040\n",
      "Epoch 9/100\n",
      "1738/1738 [==============================] - 0s 98us/step - loss: 0.0040\n",
      "Epoch 10/100\n",
      "1738/1738 [==============================] - 0s 99us/step - loss: 0.0040\n",
      "Epoch 11/100\n",
      "1738/1738 [==============================] - 0s 103us/step - loss: 0.0040\n",
      "Epoch 12/100\n",
      "1738/1738 [==============================] - 0s 106us/step - loss: 0.0039\n",
      "Epoch 13/100\n",
      "1738/1738 [==============================] - 0s 99us/step - loss: 0.0041\n",
      "Epoch 14/100\n",
      "1738/1738 [==============================] - 0s 99us/step - loss: 0.0036\n",
      "Epoch 15/100\n",
      "1738/1738 [==============================] - 0s 104us/step - loss: 0.0039\n",
      "Epoch 16/100\n",
      "1738/1738 [==============================] - 0s 101us/step - loss: 0.0037\n",
      "Epoch 17/100\n",
      "1738/1738 [==============================] - 0s 124us/step - loss: 0.0037\n",
      "Epoch 18/100\n",
      "1738/1738 [==============================] - ETA: 0s - loss: 0.003 - 0s 113us/step - loss: 0.0039\n",
      "Epoch 19/100\n",
      "1738/1738 [==============================] - 0s 108us/step - loss: 0.0040\n",
      "Epoch 20/100\n",
      "1738/1738 [==============================] - 0s 105us/step - loss: 0.0041\n",
      "Epoch 21/100\n",
      "1738/1738 [==============================] - 0s 99us/step - loss: 0.0036\n",
      "Epoch 22/100\n",
      "1738/1738 [==============================] - 0s 116us/step - loss: 0.0036\n",
      "Epoch 23/100\n",
      "1738/1738 [==============================] - 0s 129us/step - loss: 0.0035\n",
      "Epoch 24/100\n",
      "1738/1738 [==============================] - 0s 111us/step - loss: 0.0036\n",
      "Epoch 25/100\n",
      "1738/1738 [==============================] - 0s 120us/step - loss: 0.0036\n",
      "Epoch 26/100\n",
      "1738/1738 [==============================] - 0s 121us/step - loss: 0.0034\n",
      "Epoch 27/100\n",
      "1738/1738 [==============================] - 0s 112us/step - loss: 0.0035\n",
      "Epoch 28/100\n",
      "1738/1738 [==============================] - 0s 112us/step - loss: 0.0035\n",
      "Epoch 29/100\n",
      "1738/1738 [==============================] - 0s 112us/step - loss: 0.0036\n",
      "Epoch 30/100\n",
      "1738/1738 [==============================] - ETA: 0s - loss: 0.003 - 0s 115us/step - loss: 0.0033\n",
      "Epoch 31/100\n",
      "1738/1738 [==============================] - 0s 117us/step - loss: 0.0034\n",
      "Epoch 32/100\n",
      "1738/1738 [==============================] - 0s 117us/step - loss: 0.0034\n",
      "Epoch 33/100\n",
      "1738/1738 [==============================] - 0s 125us/step - loss: 0.0036\n",
      "Epoch 34/100\n",
      "1738/1738 [==============================] - 0s 117us/step - loss: 0.0034\n",
      "Epoch 35/100\n",
      "1738/1738 [==============================] - 0s 125us/step - loss: 0.0034\n",
      "Epoch 36/100\n",
      "1738/1738 [==============================] - 0s 110us/step - loss: 0.0039\n",
      "Epoch 37/100\n",
      "1738/1738 [==============================] - ETA: 0s - loss: 0.003 - 0s 117us/step - loss: 0.0035\n",
      "Epoch 38/100\n",
      "1738/1738 [==============================] - 0s 116us/step - loss: 0.0035\n",
      "Epoch 39/100\n",
      "1738/1738 [==============================] - 0s 109us/step - loss: 0.0033\n",
      "Epoch 40/100\n",
      "1738/1738 [==============================] - 0s 116us/step - loss: 0.0035\n",
      "Epoch 41/100\n",
      "1738/1738 [==============================] - 0s 111us/step - loss: 0.0033\n",
      "Epoch 42/100\n",
      "1738/1738 [==============================] - 0s 132us/step - loss: 0.0033\n",
      "Epoch 43/100\n",
      "1738/1738 [==============================] - 0s 117us/step - loss: 0.0035\n",
      "Epoch 44/100\n",
      "1738/1738 [==============================] - 0s 116us/step - loss: 0.0031\n",
      "Epoch 45/100\n",
      "1738/1738 [==============================] - 0s 123us/step - loss: 0.0033\n",
      "Epoch 46/100\n",
      "1738/1738 [==============================] - 0s 124us/step - loss: 0.0032\n",
      "Epoch 47/100\n",
      "1738/1738 [==============================] - 0s 123us/step - loss: 0.0035\n",
      "Epoch 48/100\n",
      "1738/1738 [==============================] - 0s 126us/step - loss: 0.0035\n",
      "Epoch 49/100\n",
      "1738/1738 [==============================] - 0s 115us/step - loss: 0.0032\n",
      "Epoch 50/100\n",
      "1738/1738 [==============================] - 0s 123us/step - loss: 0.0030\n",
      "Epoch 51/100\n",
      "1738/1738 [==============================] - 0s 124us/step - loss: 0.0031\n",
      "Epoch 52/100\n",
      "1738/1738 [==============================] - 0s 113us/step - loss: 0.0031\n",
      "Epoch 53/100\n",
      "1738/1738 [==============================] - 0s 113us/step - loss: 0.0031\n",
      "Epoch 54/100\n",
      "1738/1738 [==============================] - 0s 111us/step - loss: 0.0034\n",
      "Epoch 55/100\n",
      "1738/1738 [==============================] - 0s 108us/step - loss: 0.0032\n",
      "Epoch 56/100\n",
      "1738/1738 [==============================] - 0s 113us/step - loss: 0.0031\n",
      "Epoch 57/100\n",
      "1738/1738 [==============================] - 0s 124us/step - loss: 0.0031\n",
      "Epoch 58/100\n",
      "1738/1738 [==============================] - 0s 118us/step - loss: 0.0031\n",
      "Epoch 59/100\n",
      "1738/1738 [==============================] - 0s 108us/step - loss: 0.0031\n",
      "Epoch 60/100\n",
      "1738/1738 [==============================] - 0s 105us/step - loss: 0.0032\n",
      "Epoch 61/100\n",
      "1738/1738 [==============================] - 0s 116us/step - loss: 0.0032\n",
      "Epoch 62/100\n",
      "1738/1738 [==============================] - 0s 117us/step - loss: 0.0031\n",
      "Epoch 63/100\n",
      "1738/1738 [==============================] - 0s 108us/step - loss: 0.0032\n",
      "Epoch 64/100\n",
      "1738/1738 [==============================] - 0s 106us/step - loss: 0.0031\n",
      "Epoch 65/100\n",
      "1738/1738 [==============================] - 0s 116us/step - loss: 0.0031\n",
      "Epoch 66/100\n",
      "1738/1738 [==============================] - 0s 113us/step - loss: 0.0029\n",
      "Epoch 67/100\n",
      "1738/1738 [==============================] - 0s 111us/step - loss: 0.0030\n",
      "Epoch 68/100\n",
      "1738/1738 [==============================] - 0s 111us/step - loss: 0.0031\n",
      "Epoch 69/100\n",
      "1738/1738 [==============================] - 0s 108us/step - loss: 0.0030\n",
      "Epoch 70/100\n",
      "1738/1738 [==============================] - 0s 120us/step - loss: 0.0029\n",
      "Epoch 71/100\n",
      "1738/1738 [==============================] - 0s 117us/step - loss: 0.0029\n",
      "Epoch 72/100\n",
      "1738/1738 [==============================] - 0s 109us/step - loss: 0.0029\n",
      "Epoch 73/100\n",
      "1738/1738 [==============================] - 0s 126us/step - loss: 0.0031\n",
      "Epoch 74/100\n",
      "1738/1738 [==============================] - 0s 119us/step - loss: 0.0031\n",
      "Epoch 75/100\n",
      "1738/1738 [==============================] - 0s 116us/step - loss: 0.0030\n",
      "Epoch 76/100\n",
      "1738/1738 [==============================] - 0s 109us/step - loss: 0.0030\n",
      "Epoch 77/100\n",
      "1738/1738 [==============================] - 0s 111us/step - loss: 0.0031\n",
      "Epoch 78/100\n",
      "1738/1738 [==============================] - 0s 115us/step - loss: 0.0031\n",
      "Epoch 79/100\n",
      "1738/1738 [==============================] - 0s 112us/step - loss: 0.0030\n",
      "Epoch 80/100\n",
      "1738/1738 [==============================] - 0s 108us/step - loss: 0.0029\n",
      "Epoch 81/100\n",
      "1738/1738 [==============================] - 0s 123us/step - loss: 0.0029\n",
      "Epoch 82/100\n",
      "1738/1738 [==============================] - 0s 120us/step - loss: 0.0030\n",
      "Epoch 83/100\n",
      "1738/1738 [==============================] - ETA: 0s - loss: 0.0029  - 0s 111us/step - loss: 0.0030\n",
      "Epoch 84/100\n",
      "1738/1738 [==============================] - ETA: 0s - loss: 0.002 - 0s 116us/step - loss: 0.0030\n",
      "Epoch 85/100\n",
      "1738/1738 [==============================] - 0s 112us/step - loss: 0.0030\n",
      "Epoch 86/100\n",
      "1738/1738 [==============================] - 0s 108us/step - loss: 0.0029\n",
      "Epoch 87/100\n",
      "1738/1738 [==============================] - 0s 110us/step - loss: 0.0030\n",
      "Epoch 88/100\n",
      "1738/1738 [==============================] - 0s 107us/step - loss: 0.0029\n",
      "Epoch 89/100\n",
      "1738/1738 [==============================] - 0s 111us/step - loss: 0.0029\n",
      "Epoch 90/100\n",
      "1738/1738 [==============================] - 0s 115us/step - loss: 0.0029\n",
      "Epoch 91/100\n",
      "1738/1738 [==============================] - 0s 109us/step - loss: 0.0028\n",
      "Epoch 92/100\n",
      "1738/1738 [==============================] - 0s 107us/step - loss: 0.0030\n",
      "Epoch 93/100\n",
      "1738/1738 [==============================] - 0s 105us/step - loss: 0.0029\n"
     ]
    },
    {
     "name": "stdout",
     "output_type": "stream",
     "text": [
      "Epoch 94/100\n",
      "1738/1738 [==============================] - 0s 104us/step - loss: 0.0028\n",
      "Epoch 95/100\n",
      "1738/1738 [==============================] - 0s 101us/step - loss: 0.0030\n",
      "Epoch 96/100\n",
      "1738/1738 [==============================] - 0s 106us/step - loss: 0.0028\n",
      "Epoch 97/100\n",
      "1738/1738 [==============================] - 0s 100us/step - loss: 0.0028\n",
      "Epoch 98/100\n",
      "1738/1738 [==============================] - 0s 101us/step - loss: 0.0029\n",
      "Epoch 99/100\n",
      "1738/1738 [==============================] - 0s 109us/step - loss: 0.0029\n",
      "Epoch 100/100\n",
      "1738/1738 [==============================] - 0s 122us/step - loss: 0.0029\n"
     ]
    },
    {
     "data": {
      "text/plain": [
       "<keras.callbacks.History at 0x205c27d0c88>"
      ]
     },
     "execution_count": 86,
     "metadata": {},
     "output_type": "execute_result"
    }
   ],
   "source": [
    "input_func = tf.estimator.inputs.pandas_input_fn(x_train,y_train,batch_size=15,num_epochs=500,shuffle=True)\n",
    "model.fit(x_train, y_train, batch_size = 20, nb_epoch = 100)"
   ]
  },
  {
   "cell_type": "code",
   "execution_count": 87,
   "metadata": {
    "collapsed": true
   },
   "outputs": [],
   "source": [
    "y_pred = model.predict(x_test)"
   ]
  },
  {
   "cell_type": "code",
   "execution_count": 88,
   "metadata": {},
   "outputs": [],
   "source": [
    "y_test = np.asarray(y_test)"
   ]
  },
  {
   "cell_type": "code",
   "execution_count": 89,
   "metadata": {},
   "outputs": [
    {
     "data": {
      "text/plain": [
       "[<matplotlib.lines.Line2D at 0x205c504b438>]"
      ]
     },
     "execution_count": 89,
     "metadata": {},
     "output_type": "execute_result"
    },
    {
     "data": {
      "image/png": "[encoded data removed]",
      "text/plain": [
       "<matplotlib.figure.Figure at 0x205c4a5cc50>"
      ]
     },
     "metadata": {},
     "output_type": "display_data"
    }
   ],
   "source": [
    "plt.plot(y_test,y_pred,'*')"
   ]
  },
  {
   "cell_type": "markdown",
   "metadata": {},
   "source": [
    "## PERFORMANCE & RESULT"
   ]
  },
  {
   "cell_type": "code",
   "execution_count": 90,
   "metadata": {},
   "outputs": [
    {
     "name": "stdout",
     "output_type": "stream",
     "text": [
      "r sqaured =  41.0530344034\n",
      "mse =  0.350811150373\n",
      "meanae =  3.02286681922\n",
      "meadianae =  1.25080524012\n"
     ]
    }
   ],
   "source": [
    "from sklearn.metrics import r2_score\n",
    "from sklearn.metrics import mean_absolute_error\n",
    "from sklearn.metrics import median_absolute_error\n",
    "from sklearn.metrics import mean_squared_error\n",
    "from sklearn.metrics import mean_squared_log_error\n",
    "print(\"r sqaured = \",r2_score(y_test, y_pred)*100)\n",
    "print(\"mse = \",mean_squared_error(y_test,y_pred)*100)\n",
    "print(\"meanae = \",mean_absolute_error(y_test,y_pred)*100)\n",
    "print(\"meadianae = \",median_absolute_error(y_test,y_pred)*100)"
   ]
  },
  {
   "cell_type": "code",
   "execution_count": 84,
   "metadata": {},
   "outputs": [
    {
     "data": {
      "text/plain": [
       "746"
      ]
     },
     "execution_count": 84,
     "metadata": {},
     "output_type": "execute_result"
    }
   ],
   "source": [
    "y_test.size"
   ]
  },
  {
   "cell_type": "code",
   "execution_count": null,
   "metadata": {
    "collapsed": true
   },
   "outputs": [],
   "source": [
    "X=x_test['MinPressure']"
   ]
  },
  {
   "cell_type": "code",
   "execution_count": null,
   "metadata": {},
   "outputs": [],
   "source": [
    "plt.plot(x_test,p,'*')\n",
    "plt.xlabel(\"X_TEST\")\n",
    "plt.ylabel(\"PREDICTION\")\n",
    "plt.title(\"PREDICTED GRAPH ON TEST DATA\")"
   ]
  },
  {
   "cell_type": "code",
   "execution_count": null,
   "metadata": {
    "scrolled": true
   },
   "outputs": [],
   "source": [
    "plt.plot(x_test,y_test,'*')\n",
    "plt.xlabel(\"X_TEST\")\n",
    "plt.ylabel(\"Y_TEST\")\n",
    "plt.title(\"ORIGINAL TEST DATASET\")"
   ]
  },
  {
   "cell_type": "code",
   "execution_count": null,
   "metadata": {
    "scrolled": true
   },
   "outputs": [],
   "source": [
    "plt.plot(y_test,y_pred,'^')\n",
    "plt.xlabel(\"Y_TEST\")\n",
    "plt.ylabel(\"PREDICTIONS\")\n",
    "plt.title(\"ORIGINAL OUTPUTS VS PREDICTED OUTPUTS\")"
   ]
  },
  {
   "cell_type": "code",
   "execution_count": null,
   "metadata": {
    "collapsed": true
   },
   "outputs": [],
   "source": []
  }
 ],
 "metadata": {
  "kernelspec": {
   "display_name": "Python 3",
   "language": "python",
   "name": "python3"
  },
  "language_info": {
   "codemirror_mode": {
    "name": "ipython",
    "version": 3
   },
   "file_extension": ".py",
   "mimetype": "text/x-python",
   "name": "python",
   "nbconvert_exporter": "python",
   "pygments_lexer": "ipython3",
   "version": "3.5.4"
  }
 },
 "nbformat": 4,
 "nbformat_minor": 2
}
